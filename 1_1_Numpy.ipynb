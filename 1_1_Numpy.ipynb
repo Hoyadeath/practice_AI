{
  "cells": [
    {
      "cell_type": "markdown",
      "metadata": {
        "id": "view-in-github",
        "colab_type": "text"
      },
      "source": [
        "<a href=\"https://colab.research.google.com/github/Hoyadeath/practice_AI/blob/main/1_1_Numpy.ipynb\" target=\"_parent\"><img src=\"https://colab.research.google.com/assets/colab-badge.svg\" alt=\"Open In Colab\"/></a>"
      ]
    },
    {
      "cell_type": "markdown",
      "metadata": {
        "id": "B-2yFe33epd3"
      },
      "source": [
        "#Section 01. Intrododution to Numpy\n",
        "## 1. Concept of Numply"
      ]
    },
    {
      "cell_type": "code",
      "execution_count": 6,
      "metadata": {
        "colab": {
          "base_uri": "https://localhost:8080/"
        },
        "id": "GPmQQ7xheyvf",
        "outputId": "4c3ea557-4914-48fd-b15a-7a42b1c2e46d"
      },
      "outputs": [
        {
          "output_type": "stream",
          "name": "stdout",
          "text": [
            "Requirement already satisfied: numpy in /usr/local/lib/python3.10/dist-packages (1.25.2)\n"
          ]
        }
      ],
      "source": [
        "# Jupiter notebook user\n",
        "!pip install numpy"
      ]
    },
    {
      "cell_type": "code",
      "execution_count": 7,
      "metadata": {
        "colab": {
          "base_uri": "https://localhost:8080/"
        },
        "id": "gZI5GX_MegxU",
        "outputId": "978d83bb-d18f-49a9-e175-11283e3eed3d"
      },
      "outputs": [
        {
          "output_type": "stream",
          "name": "stdout",
          "text": [
            "1.25.2\n"
          ]
        }
      ],
      "source": [
        "import numpy as np\n",
        "print(np.__version__) # check Python libarary"
      ]
    },
    {
      "cell_type": "markdown",
      "metadata": {
        "id": "Sw8cBzEqe-Us"
      },
      "source": [
        "##2. Numpy array"
      ]
    },
    {
      "cell_type": "code",
      "execution_count": 8,
      "metadata": {
        "colab": {
          "base_uri": "https://localhost:8080/"
        },
        "id": "NqGNpaStfCso",
        "outputId": "22102ed8-ee08-474b-92c2-30efe37dbeaa"
      },
      "outputs": [
        {
          "output_type": "stream",
          "name": "stdout",
          "text": [
            "[[ 0  1  2  3]\n",
            " [ 4  5  6  7]\n",
            " [ 8  9 10 11]] (3, 4)\n"
          ]
        }
      ],
      "source": [
        "d=np.arange(12).reshape(3,4)\n",
        "print(d,d.shape)"
      ]
    },
    {
      "cell_type": "markdown",
      "metadata": {
        "id": "f_M34kP8fIoO"
      },
      "source": [
        "###dtype"
      ]
    },
    {
      "cell_type": "code",
      "execution_count": 10,
      "metadata": {
        "colab": {
          "base_uri": "https://localhost:8080/"
        },
        "id": "Tf00pbPVfK0A",
        "outputId": "90114414-f33a-43c2-b217-d0a3ea1d8cfb"
      },
      "outputs": [
        {
          "output_type": "stream",
          "name": "stdout",
          "text": [
            "int64\n"
          ]
        }
      ],
      "source": [
        "print(d.dtype)"
      ]
    },
    {
      "cell_type": "markdown",
      "metadata": {
        "id": "ADVNYxNMfM2O"
      },
      "source": [
        "###ndim"
      ]
    },
    {
      "cell_type": "code",
      "execution_count": null,
      "metadata": {
        "colab": {
          "base_uri": "https://localhost:8080/"
        },
        "id": "jkz-K1bOfO0w",
        "outputId": "6c49a979-88cd-4415-ecf9-b4c93690a99d"
      },
      "outputs": [
        {
          "name": "stdout",
          "output_type": "stream",
          "text": [
            "2\n"
          ]
        }
      ],
      "source": [
        "print(d.ndim)"
      ]
    },
    {
      "cell_type": "markdown",
      "metadata": {
        "id": "m83p1j8zfRDY"
      },
      "source": [
        "###T"
      ]
    },
    {
      "cell_type": "code",
      "execution_count": 11,
      "metadata": {
        "colab": {
          "base_uri": "https://localhost:8080/"
        },
        "id": "9coN-2qIfTE6",
        "outputId": "c61f1cb7-176c-4abf-c60f-fc540e8d565d"
      },
      "outputs": [
        {
          "output_type": "stream",
          "name": "stdout",
          "text": [
            "[[ 0  4  8]\n",
            " [ 1  5  9]\n",
            " [ 2  6 10]\n",
            " [ 3  7 11]]\n"
          ]
        }
      ],
      "source": [
        "print(d.T) # transposed matrix"
      ]
    },
    {
      "cell_type": "markdown",
      "metadata": {
        "id": "M4qeq-GYfZJB"
      },
      "source": [
        "###size"
      ]
    },
    {
      "cell_type": "code",
      "execution_count": 14,
      "metadata": {
        "colab": {
          "base_uri": "https://localhost:8080/"
        },
        "id": "pvwnLzCofa7O",
        "outputId": "0bd6c3e0-8306-4b3e-e3e0-343d36e2620e"
      },
      "outputs": [
        {
          "output_type": "stream",
          "name": "stdout",
          "text": [
            "12\n"
          ]
        }
      ],
      "source": [
        "print(d.size) # quantity of elements"
      ]
    },
    {
      "cell_type": "markdown",
      "metadata": {
        "id": "VMFRamBofdGb"
      },
      "source": [
        "###nbtypes"
      ]
    },
    {
      "cell_type": "code",
      "execution_count": 18,
      "metadata": {
        "colab": {
          "base_uri": "https://localhost:8080/"
        },
        "id": "7r6DQZPXffjx",
        "outputId": "e23e9a46-e63e-46a4-f51a-6093e387c518"
      },
      "outputs": [
        {
          "output_type": "stream",
          "name": "stdout",
          "text": [
            "96\n"
          ]
        }
      ],
      "source": [
        "print(d.nbytes) # 64bit is 8byte, total 96byte(8*12)"
      ]
    },
    {
      "cell_type": "markdown",
      "metadata": {
        "id": "V7jldhYmfhyv"
      },
      "source": [
        "### flat"
      ]
    },
    {
      "cell_type": "code",
      "execution_count": 19,
      "metadata": {
        "colab": {
          "base_uri": "https://localhost:8080/"
        },
        "id": "3DjQiXwLfkB9",
        "outputId": "0f62e0c2-c501-46c0-817e-e86292e44868"
      },
      "outputs": [
        {
          "output_type": "stream",
          "name": "stdout",
          "text": [
            "[[1 1 1 1]\n",
            " [1 1 1 1]\n",
            " [1 1 1 1]]\n"
          ]
        }
      ],
      "source": [
        "d.flat=1\n",
        "print(d)"
      ]
    },
    {
      "cell_type": "markdown",
      "metadata": {
        "id": "I_dTqLtzfng1"
      },
      "source": [
        "##3. Create Numpy array\n",
        "##by list"
      ]
    },
    {
      "cell_type": "code",
      "execution_count": 23,
      "metadata": {
        "colab": {
          "base_uri": "https://localhost:8080/"
        },
        "id": "ZDFwzG1KfrCi",
        "outputId": "b48dc08a-785e-4d2f-e41b-39bff71539f9"
      },
      "outputs": [
        {
          "output_type": "stream",
          "name": "stdout",
          "text": [
            "<class 'numpy.ndarray'>\n"
          ]
        }
      ],
      "source": [
        "npa1=np.array([1, 2, 3])\n",
        "print(type(npa1))"
      ]
    },
    {
      "cell_type": "code",
      "execution_count": 24,
      "metadata": {
        "colab": {
          "base_uri": "https://localhost:8080/"
        },
        "id": "NJrozJG1ftWg",
        "outputId": "b667e6cd-798a-46c5-f545-b9195812ad60"
      },
      "outputs": [
        {
          "output_type": "stream",
          "name": "stdout",
          "text": [
            "<class 'list'>\n",
            "<class 'numpy.ndarray'>\n"
          ]
        }
      ],
      "source": [
        "list2=[[1, 2, 3],\n",
        " [4, 5, 6]]\n",
        "print(type(list2))\n",
        "npa2=np.array(list2) # Name the variable\n",
        "print(type(npa2))"
      ]
    },
    {
      "cell_type": "markdown",
      "metadata": {
        "id": "c8C7OSdvfv1s"
      },
      "source": [
        "###by dataframe"
      ]
    },
    {
      "cell_type": "code",
      "execution_count": 28,
      "metadata": {
        "colab": {
          "base_uri": "https://localhost:8080/"
        },
        "id": "tLBluX19fxvl",
        "outputId": "0646a7b0-ded5-4520-a25e-1fcbd0330a74"
      },
      "outputs": [
        {
          "output_type": "stream",
          "name": "stdout",
          "text": [
            "<class 'pandas.core.frame.DataFrame'>\n",
            "<class 'numpy.ndarray'>\n"
          ]
        }
      ],
      "source": [
        "import pandas as pd\n",
        "pd1=pd.DataFrame([1, 2, 3])\n",
        "print(type(pd1))\n",
        "np1=np.array(pd1)\n",
        "print(type(np1))"
      ]
    },
    {
      "cell_type": "code",
      "execution_count": 31,
      "metadata": {
        "colab": {
          "base_uri": "https://localhost:8080/",
          "height": 180
        },
        "id": "qV7DunRvf04E",
        "outputId": "fe235a63-7fc6-4b10-d958-65fa43ae5e59"
      },
      "outputs": [
        {
          "output_type": "stream",
          "name": "stdout",
          "text": [
            "<class 'list'>\n",
            "<class 'pandas.core.frame.DataFrame'>\n",
            "<class 'numpy.ndarray'>\n"
          ]
        },
        {
          "output_type": "execute_result",
          "data": {
            "text/plain": [
              "   0  1  2\n",
              "0  1  2  3\n",
              "1  4  5  6"
            ],
            "text/html": [
              "\n",
              "  <div id=\"df-2b694a3e-0731-4aaa-9ff9-54f1c0a66b5d\" class=\"colab-df-container\">\n",
              "    <div>\n",
              "<style scoped>\n",
              "    .dataframe tbody tr th:only-of-type {\n",
              "        vertical-align: middle;\n",
              "    }\n",
              "\n",
              "    .dataframe tbody tr th {\n",
              "        vertical-align: top;\n",
              "    }\n",
              "\n",
              "    .dataframe thead th {\n",
              "        text-align: right;\n",
              "    }\n",
              "</style>\n",
              "<table border=\"1\" class=\"dataframe\">\n",
              "  <thead>\n",
              "    <tr style=\"text-align: right;\">\n",
              "      <th></th>\n",
              "      <th>0</th>\n",
              "      <th>1</th>\n",
              "      <th>2</th>\n",
              "    </tr>\n",
              "  </thead>\n",
              "  <tbody>\n",
              "    <tr>\n",
              "      <th>0</th>\n",
              "      <td>1</td>\n",
              "      <td>2</td>\n",
              "      <td>3</td>\n",
              "    </tr>\n",
              "    <tr>\n",
              "      <th>1</th>\n",
              "      <td>4</td>\n",
              "      <td>5</td>\n",
              "      <td>6</td>\n",
              "    </tr>\n",
              "  </tbody>\n",
              "</table>\n",
              "</div>\n",
              "    <div class=\"colab-df-buttons\">\n",
              "\n",
              "  <div class=\"colab-df-container\">\n",
              "    <button class=\"colab-df-convert\" onclick=\"convertToInteractive('df-2b694a3e-0731-4aaa-9ff9-54f1c0a66b5d')\"\n",
              "            title=\"Convert this dataframe to an interactive table.\"\n",
              "            style=\"display:none;\">\n",
              "\n",
              "  <svg xmlns=\"http://www.w3.org/2000/svg\" height=\"24px\" viewBox=\"0 -960 960 960\">\n",
              "    <path d=\"M120-120v-720h720v720H120Zm60-500h600v-160H180v160Zm220 220h160v-160H400v160Zm0 220h160v-160H400v160ZM180-400h160v-160H180v160Zm440 0h160v-160H620v160ZM180-180h160v-160H180v160Zm440 0h160v-160H620v160Z\"/>\n",
              "  </svg>\n",
              "    </button>\n",
              "\n",
              "  <style>\n",
              "    .colab-df-container {\n",
              "      display:flex;\n",
              "      gap: 12px;\n",
              "    }\n",
              "\n",
              "    .colab-df-convert {\n",
              "      background-color: #E8F0FE;\n",
              "      border: none;\n",
              "      border-radius: 50%;\n",
              "      cursor: pointer;\n",
              "      display: none;\n",
              "      fill: #1967D2;\n",
              "      height: 32px;\n",
              "      padding: 0 0 0 0;\n",
              "      width: 32px;\n",
              "    }\n",
              "\n",
              "    .colab-df-convert:hover {\n",
              "      background-color: #E2EBFA;\n",
              "      box-shadow: 0px 1px 2px rgba(60, 64, 67, 0.3), 0px 1px 3px 1px rgba(60, 64, 67, 0.15);\n",
              "      fill: #174EA6;\n",
              "    }\n",
              "\n",
              "    .colab-df-buttons div {\n",
              "      margin-bottom: 4px;\n",
              "    }\n",
              "\n",
              "    [theme=dark] .colab-df-convert {\n",
              "      background-color: #3B4455;\n",
              "      fill: #D2E3FC;\n",
              "    }\n",
              "\n",
              "    [theme=dark] .colab-df-convert:hover {\n",
              "      background-color: #434B5C;\n",
              "      box-shadow: 0px 1px 3px 1px rgba(0, 0, 0, 0.15);\n",
              "      filter: drop-shadow(0px 1px 2px rgba(0, 0, 0, 0.3));\n",
              "      fill: #FFFFFF;\n",
              "    }\n",
              "  </style>\n",
              "\n",
              "    <script>\n",
              "      const buttonEl =\n",
              "        document.querySelector('#df-2b694a3e-0731-4aaa-9ff9-54f1c0a66b5d button.colab-df-convert');\n",
              "      buttonEl.style.display =\n",
              "        google.colab.kernel.accessAllowed ? 'block' : 'none';\n",
              "\n",
              "      async function convertToInteractive(key) {\n",
              "        const element = document.querySelector('#df-2b694a3e-0731-4aaa-9ff9-54f1c0a66b5d');\n",
              "        const dataTable =\n",
              "          await google.colab.kernel.invokeFunction('convertToInteractive',\n",
              "                                                    [key], {});\n",
              "        if (!dataTable) return;\n",
              "\n",
              "        const docLinkHtml = 'Like what you see? Visit the ' +\n",
              "          '<a target=\"_blank\" href=https://colab.research.google.com/notebooks/data_table.ipynb>data table notebook</a>'\n",
              "          + ' to learn more about interactive tables.';\n",
              "        element.innerHTML = '';\n",
              "        dataTable['output_type'] = 'display_data';\n",
              "        await google.colab.output.renderOutput(dataTable, element);\n",
              "        const docLink = document.createElement('div');\n",
              "        docLink.innerHTML = docLinkHtml;\n",
              "        element.appendChild(docLink);\n",
              "      }\n",
              "    </script>\n",
              "  </div>\n",
              "\n",
              "\n",
              "<div id=\"df-6ecc5bf0-ea45-45a7-a5f6-6d8bc28f6a43\">\n",
              "  <button class=\"colab-df-quickchart\" onclick=\"quickchart('df-6ecc5bf0-ea45-45a7-a5f6-6d8bc28f6a43')\"\n",
              "            title=\"Suggest charts\"\n",
              "            style=\"display:none;\">\n",
              "\n",
              "<svg xmlns=\"http://www.w3.org/2000/svg\" height=\"24px\"viewBox=\"0 0 24 24\"\n",
              "     width=\"24px\">\n",
              "    <g>\n",
              "        <path d=\"M19 3H5c-1.1 0-2 .9-2 2v14c0 1.1.9 2 2 2h14c1.1 0 2-.9 2-2V5c0-1.1-.9-2-2-2zM9 17H7v-7h2v7zm4 0h-2V7h2v10zm4 0h-2v-4h2v4z\"/>\n",
              "    </g>\n",
              "</svg>\n",
              "  </button>\n",
              "\n",
              "<style>\n",
              "  .colab-df-quickchart {\n",
              "      --bg-color: #E8F0FE;\n",
              "      --fill-color: #1967D2;\n",
              "      --hover-bg-color: #E2EBFA;\n",
              "      --hover-fill-color: #174EA6;\n",
              "      --disabled-fill-color: #AAA;\n",
              "      --disabled-bg-color: #DDD;\n",
              "  }\n",
              "\n",
              "  [theme=dark] .colab-df-quickchart {\n",
              "      --bg-color: #3B4455;\n",
              "      --fill-color: #D2E3FC;\n",
              "      --hover-bg-color: #434B5C;\n",
              "      --hover-fill-color: #FFFFFF;\n",
              "      --disabled-bg-color: #3B4455;\n",
              "      --disabled-fill-color: #666;\n",
              "  }\n",
              "\n",
              "  .colab-df-quickchart {\n",
              "    background-color: var(--bg-color);\n",
              "    border: none;\n",
              "    border-radius: 50%;\n",
              "    cursor: pointer;\n",
              "    display: none;\n",
              "    fill: var(--fill-color);\n",
              "    height: 32px;\n",
              "    padding: 0;\n",
              "    width: 32px;\n",
              "  }\n",
              "\n",
              "  .colab-df-quickchart:hover {\n",
              "    background-color: var(--hover-bg-color);\n",
              "    box-shadow: 0 1px 2px rgba(60, 64, 67, 0.3), 0 1px 3px 1px rgba(60, 64, 67, 0.15);\n",
              "    fill: var(--button-hover-fill-color);\n",
              "  }\n",
              "\n",
              "  .colab-df-quickchart-complete:disabled,\n",
              "  .colab-df-quickchart-complete:disabled:hover {\n",
              "    background-color: var(--disabled-bg-color);\n",
              "    fill: var(--disabled-fill-color);\n",
              "    box-shadow: none;\n",
              "  }\n",
              "\n",
              "  .colab-df-spinner {\n",
              "    border: 2px solid var(--fill-color);\n",
              "    border-color: transparent;\n",
              "    border-bottom-color: var(--fill-color);\n",
              "    animation:\n",
              "      spin 1s steps(1) infinite;\n",
              "  }\n",
              "\n",
              "  @keyframes spin {\n",
              "    0% {\n",
              "      border-color: transparent;\n",
              "      border-bottom-color: var(--fill-color);\n",
              "      border-left-color: var(--fill-color);\n",
              "    }\n",
              "    20% {\n",
              "      border-color: transparent;\n",
              "      border-left-color: var(--fill-color);\n",
              "      border-top-color: var(--fill-color);\n",
              "    }\n",
              "    30% {\n",
              "      border-color: transparent;\n",
              "      border-left-color: var(--fill-color);\n",
              "      border-top-color: var(--fill-color);\n",
              "      border-right-color: var(--fill-color);\n",
              "    }\n",
              "    40% {\n",
              "      border-color: transparent;\n",
              "      border-right-color: var(--fill-color);\n",
              "      border-top-color: var(--fill-color);\n",
              "    }\n",
              "    60% {\n",
              "      border-color: transparent;\n",
              "      border-right-color: var(--fill-color);\n",
              "    }\n",
              "    80% {\n",
              "      border-color: transparent;\n",
              "      border-right-color: var(--fill-color);\n",
              "      border-bottom-color: var(--fill-color);\n",
              "    }\n",
              "    90% {\n",
              "      border-color: transparent;\n",
              "      border-bottom-color: var(--fill-color);\n",
              "    }\n",
              "  }\n",
              "</style>\n",
              "\n",
              "  <script>\n",
              "    async function quickchart(key) {\n",
              "      const quickchartButtonEl =\n",
              "        document.querySelector('#' + key + ' button');\n",
              "      quickchartButtonEl.disabled = true;  // To prevent multiple clicks.\n",
              "      quickchartButtonEl.classList.add('colab-df-spinner');\n",
              "      try {\n",
              "        const charts = await google.colab.kernel.invokeFunction(\n",
              "            'suggestCharts', [key], {});\n",
              "      } catch (error) {\n",
              "        console.error('Error during call to suggestCharts:', error);\n",
              "      }\n",
              "      quickchartButtonEl.classList.remove('colab-df-spinner');\n",
              "      quickchartButtonEl.classList.add('colab-df-quickchart-complete');\n",
              "    }\n",
              "    (() => {\n",
              "      let quickchartButtonEl =\n",
              "        document.querySelector('#df-6ecc5bf0-ea45-45a7-a5f6-6d8bc28f6a43 button');\n",
              "      quickchartButtonEl.style.display =\n",
              "        google.colab.kernel.accessAllowed ? 'block' : 'none';\n",
              "    })();\n",
              "  </script>\n",
              "</div>\n",
              "\n",
              "  <div id=\"id_2a8db42b-a01f-4336-b826-a2e41c299681\">\n",
              "    <style>\n",
              "      .colab-df-generate {\n",
              "        background-color: #E8F0FE;\n",
              "        border: none;\n",
              "        border-radius: 50%;\n",
              "        cursor: pointer;\n",
              "        display: none;\n",
              "        fill: #1967D2;\n",
              "        height: 32px;\n",
              "        padding: 0 0 0 0;\n",
              "        width: 32px;\n",
              "      }\n",
              "\n",
              "      .colab-df-generate:hover {\n",
              "        background-color: #E2EBFA;\n",
              "        box-shadow: 0px 1px 2px rgba(60, 64, 67, 0.3), 0px 1px 3px 1px rgba(60, 64, 67, 0.15);\n",
              "        fill: #174EA6;\n",
              "      }\n",
              "\n",
              "      [theme=dark] .colab-df-generate {\n",
              "        background-color: #3B4455;\n",
              "        fill: #D2E3FC;\n",
              "      }\n",
              "\n",
              "      [theme=dark] .colab-df-generate:hover {\n",
              "        background-color: #434B5C;\n",
              "        box-shadow: 0px 1px 3px 1px rgba(0, 0, 0, 0.15);\n",
              "        filter: drop-shadow(0px 1px 2px rgba(0, 0, 0, 0.3));\n",
              "        fill: #FFFFFF;\n",
              "      }\n",
              "    </style>\n",
              "    <button class=\"colab-df-generate\" onclick=\"generateWithVariable('pd2')\"\n",
              "            title=\"Generate code using this dataframe.\"\n",
              "            style=\"display:none;\">\n",
              "\n",
              "  <svg xmlns=\"http://www.w3.org/2000/svg\" height=\"24px\"viewBox=\"0 0 24 24\"\n",
              "       width=\"24px\">\n",
              "    <path d=\"M7,19H8.4L18.45,9,17,7.55,7,17.6ZM5,21V16.75L18.45,3.32a2,2,0,0,1,2.83,0l1.4,1.43a1.91,1.91,0,0,1,.58,1.4,1.91,1.91,0,0,1-.58,1.4L9.25,21ZM18.45,9,17,7.55Zm-12,3A5.31,5.31,0,0,0,4.9,8.1,5.31,5.31,0,0,0,1,6.5,5.31,5.31,0,0,0,4.9,4.9,5.31,5.31,0,0,0,6.5,1,5.31,5.31,0,0,0,8.1,4.9,5.31,5.31,0,0,0,12,6.5,5.46,5.46,0,0,0,6.5,12Z\"/>\n",
              "  </svg>\n",
              "    </button>\n",
              "    <script>\n",
              "      (() => {\n",
              "      const buttonEl =\n",
              "        document.querySelector('#id_2a8db42b-a01f-4336-b826-a2e41c299681 button.colab-df-generate');\n",
              "      buttonEl.style.display =\n",
              "        google.colab.kernel.accessAllowed ? 'block' : 'none';\n",
              "\n",
              "      buttonEl.onclick = () => {\n",
              "        google.colab.notebook.generateWithVariable('pd2');\n",
              "      }\n",
              "      })();\n",
              "    </script>\n",
              "  </div>\n",
              "\n",
              "    </div>\n",
              "  </div>\n"
            ],
            "application/vnd.google.colaboratory.intrinsic+json": {
              "type": "dataframe",
              "variable_name": "pd2",
              "summary": "{\n  \"name\": \"pd2\",\n  \"rows\": 2,\n  \"fields\": [\n    {\n      \"column\": 0,\n      \"properties\": {\n        \"dtype\": \"number\",\n        \"std\": 2,\n        \"min\": 1,\n        \"max\": 4,\n        \"samples\": [\n          4,\n          1\n        ],\n        \"num_unique_values\": 2,\n        \"semantic_type\": \"\",\n        \"description\": \"\"\n      }\n    },\n    {\n      \"column\": 1,\n      \"properties\": {\n        \"dtype\": \"number\",\n        \"std\": 2,\n        \"min\": 2,\n        \"max\": 5,\n        \"samples\": [\n          5,\n          2\n        ],\n        \"num_unique_values\": 2,\n        \"semantic_type\": \"\",\n        \"description\": \"\"\n      }\n    },\n    {\n      \"column\": 2,\n      \"properties\": {\n        \"dtype\": \"number\",\n        \"std\": 2,\n        \"min\": 3,\n        \"max\": 6,\n        \"samples\": [\n          6,\n          3\n        ],\n        \"num_unique_values\": 2,\n        \"semantic_type\": \"\",\n        \"description\": \"\"\n      }\n    }\n  ]\n}"
            }
          },
          "metadata": {},
          "execution_count": 31
        }
      ],
      "source": [
        "list2=[[1, 2, 3],\n",
        " [4, 5, 6]]\n",
        "print(type(list2))\n",
        "pd2=pd.DataFrame(list2)\n",
        "print(type(pd2))\n",
        "npa2=np.array(pd2)\n",
        "print(type(npa2))\n",
        "pd2"
      ]
    },
    {
      "cell_type": "markdown",
      "metadata": {
        "id": "y5GgQzZVf3rQ"
      },
      "source": [
        "##4. n-dimensional Numpy array\n",
        "###4-1. Create 1D Numpy array\n"
      ]
    },
    {
      "cell_type": "code",
      "execution_count": 32,
      "metadata": {
        "colab": {
          "base_uri": "https://localhost:8080/"
        },
        "id": "oCMxZoZ_f_98",
        "outputId": "24e38177-4a31-4fd0-d31e-d297bafdc0c5"
      },
      "outputs": [
        {
          "output_type": "stream",
          "name": "stdout",
          "text": [
            "[0 1 2] <class 'numpy.ndarray'> 1 (3,)\n"
          ]
        }
      ],
      "source": [
        "import numpy as np\n",
        "a=np.arange(3)\n",
        "print(a, type(a), a.ndim, a.shape)"
      ]
    },
    {
      "cell_type": "markdown",
      "metadata": {
        "id": "A2xip5hegDGl"
      },
      "source": [
        "####① set end value"
      ]
    },
    {
      "cell_type": "code",
      "execution_count": 33,
      "metadata": {
        "colab": {
          "base_uri": "https://localhost:8080/"
        },
        "id": "ZY2EIXXhgFEJ",
        "outputId": "82d8a528-ab4e-4631-ee7e-ed9a4cdeff30"
      },
      "outputs": [
        {
          "output_type": "execute_result",
          "data": {
            "text/plain": [
              "array([0, 1, 2, 3])"
            ]
          },
          "metadata": {},
          "execution_count": 33
        }
      ],
      "source": [
        "a2=np.arange(4)\n",
        "a2"
      ]
    },
    {
      "cell_type": "markdown",
      "metadata": {
        "id": "ukfV9HgDgHQ7"
      },
      "source": [
        "#### ② set start and end values"
      ]
    },
    {
      "cell_type": "code",
      "execution_count": 35,
      "metadata": {
        "colab": {
          "base_uri": "https://localhost:8080/"
        },
        "id": "IASB3ak5gJf-",
        "outputId": "44516008-aa59-4fba-a1d1-35da3516b2d6"
      },
      "outputs": [
        {
          "output_type": "stream",
          "name": "stdout",
          "text": [
            "[2 3] (2,)\n"
          ]
        }
      ],
      "source": [
        "a2=np.arange(2, 4)\n",
        "print(a2, a2.shape)"
      ]
    },
    {
      "cell_type": "markdown",
      "metadata": {
        "id": "85DxeeP2gLoP"
      },
      "source": [
        "####③ set start, ending, and increasing value"
      ]
    },
    {
      "cell_type": "code",
      "execution_count": 36,
      "metadata": {
        "colab": {
          "base_uri": "https://localhost:8080/"
        },
        "id": "6wHHwh6hgNpY",
        "outputId": "43fef35a-78f6-47e3-b080-bd7ab29538df"
      },
      "outputs": [
        {
          "output_type": "stream",
          "name": "stdout",
          "text": [
            "[0 2 4] (3,)\n"
          ]
        }
      ],
      "source": [
        "a3=np.arange(0, 5, 2)\n",
        "print(a3, a3.shape)"
      ]
    },
    {
      "cell_type": "markdown",
      "metadata": {
        "id": "bt8-KemZgPlz"
      },
      "source": [
        "###4-2. Create 2D Numpy array\n",
        "####Create an array of 2 rows and 3 columns\n"
      ]
    },
    {
      "cell_type": "code",
      "execution_count": null,
      "metadata": {
        "colab": {
          "base_uri": "https://localhost:8080/"
        },
        "id": "3ijKj9Z_gV9p",
        "outputId": "2d4082ec-a8c8-41a0-831f-564960e5bd51"
      },
      "outputs": [
        {
          "name": "stdout",
          "output_type": "stream",
          "text": [
            "[[0 1 2]\n",
            " [3 4 5]] (2, 3)\n"
          ]
        }
      ],
      "source": [
        "m=np.array([[0, 1, 2],\n",
        " [3, 4, 5]])\n",
        "print(m, m.shape)"
      ]
    },
    {
      "cell_type": "code",
      "execution_count": null,
      "metadata": {
        "colab": {
          "base_uri": "https://localhost:8080/"
        },
        "id": "uO7Ro6CIgYOP",
        "outputId": "4640c30f-efa3-4307-e444-a47bfba3de1d"
      },
      "outputs": [
        {
          "name": "stdout",
          "output_type": "stream",
          "text": [
            "[[0 1 2]\n",
            " [3 4 5]] (2, 3)\n"
          ]
        }
      ],
      "source": [
        "m=np.array([np.arange(3), np.arange(3, 6)])\n",
        "print(m, m.shape)"
      ]
    },
    {
      "cell_type": "markdown",
      "metadata": {
        "id": "tCALWMqvgavD"
      },
      "source": [
        "####Create an array of 3 rows and 2 columns"
      ]
    },
    {
      "cell_type": "code",
      "execution_count": 41,
      "metadata": {
        "colab": {
          "base_uri": "https://localhost:8080/"
        },
        "id": "piOIppvugdAV",
        "outputId": "97755633-763e-4318-fc81-0b4458f9b769"
      },
      "outputs": [
        {
          "output_type": "stream",
          "name": "stdout",
          "text": [
            "[[0 3]\n",
            " [1 4]\n",
            " [2 5]] (3, 2)\n",
            "3 2\n"
          ]
        }
      ],
      "source": [
        "m=np.array([[0, 3],\n",
        " [1, 4],\n",
        " [2, 5]])\n",
        "print(m, m.shape)\n",
        "print(m.shape[0], m.shape[1])"
      ]
    },
    {
      "cell_type": "code",
      "execution_count": null,
      "metadata": {
        "colab": {
          "base_uri": "https://localhost:8080/"
        },
        "id": "gRmFB_mpgfTH",
        "outputId": "d4ab188a-70bd-4335-9689-1d1f3d518489"
      },
      "outputs": [
        {
          "name": "stdout",
          "output_type": "stream",
          "text": [
            "[[0 3]\n",
            " [1 4]\n",
            " [2 5]] (3, 2)\n"
          ]
        }
      ],
      "source": [
        "m=np.array([np.arange(0, 4, 3), np.arange(1, 5, 3),\n",
        "np.arange(2, 6, 3)])\n",
        "print(m, m.shape)"
      ]
    },
    {
      "cell_type": "markdown",
      "metadata": {
        "id": "6IooSmNDghvh"
      },
      "source": [
        "###4-3. Create 3D Numpy array"
      ]
    },
    {
      "cell_type": "code",
      "execution_count": null,
      "metadata": {
        "colab": {
          "base_uri": "https://localhost:8080/"
        },
        "id": "5PfwdabCgk8R",
        "outputId": "f87aa524-71d4-4d39-9d7b-d1165c26555e"
      },
      "outputs": [
        {
          "name": "stdout",
          "output_type": "stream",
          "text": [
            "[[[0 1 2]\n",
            "  [3 4 5]]\n",
            "\n",
            " [[0 1 2]\n",
            "  [3 4 5]]]\n",
            "(2, 2, 3)\n"
          ]
        }
      ],
      "source": [
        "m=np.array([[[0, 1, 2],\n",
        " [3, 4, 5]],\n",
        " [[0, 1, 2],\n",
        " [3, 4, 5]]])\n",
        "print(m)\n",
        "print(m.shape)"
      ]
    },
    {
      "cell_type": "code",
      "execution_count": null,
      "metadata": {
        "colab": {
          "base_uri": "https://localhost:8080/"
        },
        "id": "zJYYJwR4gnK_",
        "outputId": "b16dcdb3-5f24-44ef-b792-bba5df5e0b69"
      },
      "outputs": [
        {
          "name": "stdout",
          "output_type": "stream",
          "text": [
            "[[[ 0  1]\n",
            "  [ 2  3]]\n",
            "\n",
            " [[ 4  5]\n",
            "  [ 6  7]]\n",
            "\n",
            " [[ 8  9]\n",
            "  [10 11]]] (3, 2, 2)\n"
          ]
        }
      ],
      "source": [
        "m=np.array([[[0, 1],\n",
        " [2, 3]],\n",
        " [[4, 5],\n",
        " [6, 7]],\n",
        " [[8, 9],\n",
        " [10, 11]]])\n",
        "print(m, m.shape)"
      ]
    },
    {
      "cell_type": "code",
      "execution_count": 45,
      "metadata": {
        "colab": {
          "base_uri": "https://localhost:8080/"
        },
        "id": "vYOsHTxTgpQm",
        "outputId": "a1ce9903-cc25-43a6-e95d-0da67a60dd7f"
      },
      "outputs": [
        {
          "output_type": "stream",
          "name": "stdout",
          "text": [
            "[[[0 1 2]]\n",
            "\n",
            " [[3 4 5]]\n",
            "\n",
            " [[0 1 2]]\n",
            "\n",
            " [[3 4 5]]] (4, 1, 3)\n"
          ]
        }
      ],
      "source": [
        "m=np.array([[[0, 1, 2]],\n",
        " [[3, 4, 5]],\n",
        " [[0, 1, 2]],\n",
        " [[3, 4, 5]]])\n",
        "print(m, m.shape)"
      ]
    },
    {
      "cell_type": "markdown",
      "metadata": {
        "id": "DB2Tru1OgslB"
      },
      "source": [
        "###<Extra> Python range function & Numpy arange function"
      ]
    },
    {
      "cell_type": "code",
      "execution_count": 53,
      "metadata": {
        "colab": {
          "base_uri": "https://localhost:8080/"
        },
        "id": "g5gEtvXIgyOf",
        "outputId": "ee2e0072-baef-480d-9e3d-39059d2f4325"
      },
      "outputs": [
        {
          "output_type": "stream",
          "name": "stdout",
          "text": [
            "1\n",
            "2\n",
            "3\n",
            "4\n",
            "5\n"
          ]
        }
      ],
      "source": [
        "list=[1, 2, 3, 4, 5]\n",
        "for i in list:\n",
        "  print(i)"
      ]
    },
    {
      "cell_type": "code",
      "execution_count": 54,
      "metadata": {
        "colab": {
          "base_uri": "https://localhost:8080/"
        },
        "id": "e6IDnDSag0uv",
        "outputId": "fe9d2ac2-8704-472e-fbcc-872c6fafbf12"
      },
      "outputs": [
        {
          "output_type": "stream",
          "name": "stdout",
          "text": [
            "1\n",
            "2\n",
            "3\n",
            "4\n",
            "5\n"
          ]
        }
      ],
      "source": [
        "for i in range(1, 6):\n",
        "  print(i)"
      ]
    },
    {
      "cell_type": "code",
      "execution_count": 55,
      "metadata": {
        "colab": {
          "base_uri": "https://localhost:8080/"
        },
        "id": "AZnUTF_GhtP7",
        "outputId": "e3dd959f-5f0d-4e3b-ce7d-baef6acd7713"
      },
      "outputs": [
        {
          "output_type": "stream",
          "name": "stdout",
          "text": [
            "1\n",
            "3\n",
            "5\n"
          ]
        }
      ],
      "source": [
        "for i in range(1, 6, 2):\n",
        "  print(i)"
      ]
    },
    {
      "cell_type": "code",
      "execution_count": 56,
      "metadata": {
        "colab": {
          "base_uri": "https://localhost:8080/"
        },
        "id": "FJuCXSYchwUT",
        "outputId": "c853b6d7-b3c2-48c9-b6f1-7b4948d9d678"
      },
      "outputs": [
        {
          "output_type": "execute_result",
          "data": {
            "text/plain": [
              "[1, 2, 3, 4, 5, 6, 7, 8, 9, 10]"
            ]
          },
          "metadata": {},
          "execution_count": 56
        }
      ],
      "source": [
        "arr=[1, 2, 3, 4, 5, 6, 7, 8, 9, 10]\n",
        "arr"
      ]
    },
    {
      "cell_type": "code",
      "execution_count": 57,
      "metadata": {
        "colab": {
          "base_uri": "https://localhost:8080/"
        },
        "id": "8SYB_phmhyh9",
        "outputId": "34fa4aec-06de-4f47-f061-f6bc13dfa1f4"
      },
      "outputs": [
        {
          "output_type": "execute_result",
          "data": {
            "text/plain": [
              "array([ 1,  2,  3,  4,  5,  6,  7,  8,  9, 10])"
            ]
          },
          "metadata": {},
          "execution_count": 57
        }
      ],
      "source": [
        "arr=np.arange(start=1, stop=11, step=1)\n",
        "arr"
      ]
    },
    {
      "cell_type": "code",
      "execution_count": 58,
      "metadata": {
        "colab": {
          "base_uri": "https://localhost:8080/"
        },
        "id": "pINfS3h1h0jl",
        "outputId": "16466ff4-3576-4564-c5f9-704df9e0b9f8"
      },
      "outputs": [
        {
          "output_type": "execute_result",
          "data": {
            "text/plain": [
              "array([ 1,  2,  3,  4,  5,  6,  7,  8,  9, 10])"
            ]
          },
          "metadata": {},
          "execution_count": 58
        }
      ],
      "source": [
        "arr=np.arange(1, 11)\n",
        "arr"
      ]
    },
    {
      "cell_type": "code",
      "execution_count": 59,
      "metadata": {
        "colab": {
          "base_uri": "https://localhost:8080/"
        },
        "id": "bAXPiW15h3KK",
        "outputId": "10b7bf91-acf0-4db3-b952-31a9153b69b4"
      },
      "outputs": [
        {
          "output_type": "execute_result",
          "data": {
            "text/plain": [
              "array([1, 3, 5, 7, 9])"
            ]
          },
          "metadata": {},
          "execution_count": 59
        }
      ],
      "source": [
        "arr=np.arange(start=1, stop=10, step=2)\n",
        "arr"
      ]
    },
    {
      "cell_type": "code",
      "execution_count": 60,
      "metadata": {
        "colab": {
          "base_uri": "https://localhost:8080/"
        },
        "id": "malLPdtph5y5",
        "outputId": "aaa6e7d4-5e02-4017-ebb9-9cbf0a4cad02"
      },
      "outputs": [
        {
          "output_type": "execute_result",
          "data": {
            "text/plain": [
              "array([1, 3, 5, 7, 9])"
            ]
          },
          "metadata": {},
          "execution_count": 60
        }
      ],
      "source": [
        "arr=np.arange(1, 10, 2)\n",
        "arr"
      ]
    },
    {
      "cell_type": "markdown",
      "metadata": {
        "id": "0LDyxG3gh7ca"
      },
      "source": [
        "# Section 02. Practice of array\n",
        "## 1. check and modify data type of array"
      ]
    },
    {
      "cell_type": "code",
      "execution_count": 64,
      "metadata": {
        "colab": {
          "base_uri": "https://localhost:8080/"
        },
        "id": "iOL7Ib2riBVd",
        "outputId": "c76d4fd7-adac-4152-ce86-49d96976fc8f"
      },
      "outputs": [
        {
          "output_type": "stream",
          "name": "stdout",
          "text": [
            "[0 1 2 3 4 5] <class 'numpy.ndarray'>\n",
            "int64\n"
          ]
        },
        {
          "output_type": "execute_result",
          "data": {
            "text/plain": [
              "array([0, 1, 2, 3, 4, 5])"
            ]
          },
          "metadata": {},
          "execution_count": 64
        }
      ],
      "source": [
        "import numpy as np\n",
        "npa=np.array([0, 1, 2, 3, 4, 5])\n",
        "print(npa, type(npa)) # Returns the datatype of an npa variable\n",
        "print(npa.dtype) # Returns the datatype of npa element of Numpy array\n",
        "npa # Show in array([]) format because it is a Numpy array"
      ]
    },
    {
      "cell_type": "code",
      "execution_count": 66,
      "metadata": {
        "colab": {
          "base_uri": "https://localhost:8080/"
        },
        "id": "KBsQmMmTiEjX",
        "outputId": "9f8eefb1-afad-4985-91ce-e0cff477856a"
      },
      "outputs": [
        {
          "output_type": "stream",
          "name": "stdout",
          "text": [
            "[0. 1. 2. 3. 4. 5.] float64\n"
          ]
        }
      ],
      "source": [
        "npa1=np.array([0, 1, 2, 3.0, 4, 5])\n",
        "print(npa1, npa1.dtype)"
      ]
    },
    {
      "cell_type": "code",
      "execution_count": 67,
      "metadata": {
        "colab": {
          "base_uri": "https://localhost:8080/"
        },
        "id": "8qd7HLFLiGnV",
        "outputId": "7f65b760-a6a0-4787-f2ce-741ae4c5bdb8"
      },
      "outputs": [
        {
          "output_type": "stream",
          "name": "stdout",
          "text": [
            "[0 1 2 3 4 5] int64\n"
          ]
        }
      ],
      "source": [
        "npa2=np.array([0, 1, 2, 3, 4, 5])\n",
        "print(npa2, npa2.dtype)"
      ]
    },
    {
      "cell_type": "markdown",
      "metadata": {
        "id": "W03RP35YigVE"
      },
      "source": [
        "## 2. Change form of array\n",
        "### Change structure of array : reshape function"
      ]
    },
    {
      "cell_type": "code",
      "execution_count": 69,
      "metadata": {
        "colab": {
          "base_uri": "https://localhost:8080/"
        },
        "id": "KEhl9qWTilzS",
        "outputId": "3d5cbb49-ffce-4a14-a66e-7c6f4fcccbf5"
      },
      "outputs": [
        {
          "output_type": "stream",
          "name": "stdout",
          "text": [
            "[0 1 2 3 4 5]\n",
            "(6,)\n"
          ]
        }
      ],
      "source": [
        "m1=np.arange(6)\n",
        "print(m1)\n",
        "print(m1.shape)"
      ]
    },
    {
      "cell_type": "code",
      "execution_count": 70,
      "metadata": {
        "colab": {
          "base_uri": "https://localhost:8080/"
        },
        "id": "cKBCblRFin7Y",
        "outputId": "3bdfc30d-6292-4149-cc33-1c92d000d31f"
      },
      "outputs": [
        {
          "output_type": "stream",
          "name": "stdout",
          "text": [
            "[[0]\n",
            " [1]\n",
            " [2]\n",
            " [3]\n",
            " [4]\n",
            " [5]] (6, 1)\n"
          ]
        }
      ],
      "source": [
        "m2=m1.reshape(6, 1)\n",
        "print(m2, m2.shape) # Change 1 row & 6 columns to 6 rows & 1 column"
      ]
    },
    {
      "cell_type": "code",
      "execution_count": 71,
      "metadata": {
        "colab": {
          "base_uri": "https://localhost:8080/"
        },
        "id": "JXdCDeIJittq",
        "outputId": "76b20d24-301f-418e-df0e-28ebf0547018"
      },
      "outputs": [
        {
          "output_type": "stream",
          "name": "stdout",
          "text": [
            "[[0 1 2]\n",
            " [3 4 5]] (2, 3)\n"
          ]
        }
      ],
      "source": [
        "m2=m1.reshape(2, 3)\n",
        "print(m2, m2.shape)"
      ]
    },
    {
      "cell_type": "code",
      "execution_count": 72,
      "metadata": {
        "colab": {
          "base_uri": "https://localhost:8080/"
        },
        "id": "2EfLe0N5iv7l",
        "outputId": "660fe4c3-05a5-4863-ef28-1b368669fc97"
      },
      "outputs": [
        {
          "output_type": "stream",
          "name": "stdout",
          "text": [
            "[[[ 0  1  2]\n",
            "  [ 3  4  5]]\n",
            "\n",
            " [[ 6  7  8]\n",
            "  [ 9 10 11]]] (2, 2, 3)\n"
          ]
        }
      ],
      "source": [
        "m1=np.arange(12)\n",
        "m3=m1.reshape(2, 2, 3)\n",
        "print(m3, m3.shape)"
      ]
    },
    {
      "cell_type": "code",
      "execution_count": null,
      "metadata": {
        "colab": {
          "base_uri": "https://localhost:8080/"
        },
        "id": "V3zngNfeiyT8",
        "outputId": "9693c45c-e804-4857-9abc-985c2eb0036c"
      },
      "outputs": [
        {
          "name": "stdout",
          "output_type": "stream",
          "text": [
            "[0 1 2 3 4 5] (6,)\n",
            "[[0 1]\n",
            " [2 3]\n",
            " [4 5]] (3, 2)\n",
            "[[0 1 2]\n",
            " [3 4 5]] (2, 3)\n",
            "[[0]\n",
            " [1]\n",
            " [2]\n",
            " [3]\n",
            " [4]\n",
            " [5]] (6, 1)\n"
          ]
        }
      ],
      "source": [
        "m1=np.arange(6)\n",
        "print(m1, m1.shape)\n",
        "m2=m1.reshape(-1, 2) # Rows are automatic and create 2 columns\n",
        "print(m2, m2.shape)\n",
        "m2=m1.reshape(-1, 3) # Rows are automatic and create 3 columns\n",
        "print(m2, m2.shape)\n",
        "m2=m1.reshape(-1, 1) # Rows are automatic and create 1 column\n",
        "print(m2, m2.shape)"
      ]
    },
    {
      "cell_type": "code",
      "execution_count": 77,
      "metadata": {
        "colab": {
          "base_uri": "https://localhost:8080/"
        },
        "id": "TSz2bQe-i1MG",
        "outputId": "2e1fb25d-36ac-4541-9226-aad008b97e0b"
      },
      "outputs": [
        {
          "output_type": "stream",
          "name": "stdout",
          "text": [
            "[[[0 1 2]\n",
            "  [3 4 5]]] (1, 2, 3)\n",
            "[[[0 1]\n",
            "  [2 3]\n",
            "  [4 5]]] (1, 3, 2)\n",
            "[[[0]\n",
            "  [1]\n",
            "  [2]]\n",
            "\n",
            " [[3]\n",
            "  [4]\n",
            "  [5]]] (2, 3, 1)\n"
          ]
        }
      ],
      "source": [
        "m1=np.arange(6)\n",
        "m3=m1.reshape(-1, 2, 3)\n",
        "print(m3, m3.shape)\n",
        "m3=m1.reshape(-1, 3, 2) # Heights automatic and create 3 rows and 2 columns\n",
        "print(m3,m3.shape)\n",
        "m3=m1.reshape(2, 3, -1) # Columns are automatic and create 2 heights and 3 rows\n",
        "print(m3, m3.shape)"
      ]
    },
    {
      "cell_type": "markdown",
      "metadata": {
        "id": "e28WHrdzi345"
      },
      "source": [
        "###Flatten a multidimensional array into a one-dimensional array: flatten function"
      ]
    },
    {
      "cell_type": "code",
      "execution_count": 78,
      "metadata": {
        "colab": {
          "base_uri": "https://localhost:8080/"
        },
        "id": "Zv1llna_i6il",
        "outputId": "b6c92524-d94e-42ac-d8f4-d76b1756e822"
      },
      "outputs": [
        {
          "output_type": "execute_result",
          "data": {
            "text/plain": [
              "array([[ 0,  1,  2,  3],\n",
              "       [ 4,  5,  6,  7],\n",
              "       [ 8,  9, 10, 11]])"
            ]
          },
          "metadata": {},
          "execution_count": 78
        }
      ],
      "source": [
        "a=np.arange(12).reshape(3, 4)\n",
        "a"
      ]
    },
    {
      "cell_type": "code",
      "execution_count": 79,
      "metadata": {
        "colab": {
          "base_uri": "https://localhost:8080/"
        },
        "id": "NIltovRPi8lR",
        "outputId": "271d6b99-f4a1-4e90-c915-c53fd4bafd53"
      },
      "outputs": [
        {
          "output_type": "stream",
          "name": "stdout",
          "text": [
            "[ 0  1  2  3  4  5  6  7  8  9 10 11] (12,)\n"
          ]
        }
      ],
      "source": [
        "f=a.flatten()\n",
        "print(f, f.shape)"
      ]
    },
    {
      "cell_type": "markdown",
      "metadata": {
        "id": "cqfmK5N_i-gn"
      },
      "source": [
        "###Change direction of array"
      ]
    },
    {
      "cell_type": "code",
      "execution_count": 80,
      "metadata": {
        "colab": {
          "base_uri": "https://localhost:8080/"
        },
        "id": "M8-Z6gSwjAr-",
        "outputId": "1b7125ab-24ba-4513-e0a6-c453ff23524d"
      },
      "outputs": [
        {
          "output_type": "execute_result",
          "data": {
            "text/plain": [
              "array([[ 0,  1,  2,  3],\n",
              "       [ 4,  5,  6,  7],\n",
              "       [ 8,  9, 10, 11]])"
            ]
          },
          "metadata": {},
          "execution_count": 80
        }
      ],
      "source": [
        "a"
      ]
    },
    {
      "cell_type": "code",
      "execution_count": 81,
      "metadata": {
        "colab": {
          "base_uri": "https://localhost:8080/"
        },
        "id": "6OONS4GRjCdD",
        "outputId": "77ba852b-8721-48cb-e9ae-9b373c134e79"
      },
      "outputs": [
        {
          "output_type": "stream",
          "name": "stdout",
          "text": [
            "[[ 8  9 10 11]\n",
            " [ 4  5  6  7]\n",
            " [ 0  1  2  3]]\n"
          ]
        }
      ],
      "source": [
        "print(a[::-1]) # Reverse the order of the rows"
      ]
    },
    {
      "cell_type": "code",
      "execution_count": null,
      "metadata": {
        "colab": {
          "base_uri": "https://localhost:8080/"
        },
        "id": "7swJyvWTjFfG",
        "outputId": "7b8e14e7-4012-466c-d756-79576e4d8a27"
      },
      "outputs": [
        {
          "data": {
            "text/plain": [
              "array([[ 0,  1,  2,  3],\n",
              "       [ 4,  5,  6,  7],\n",
              "       [ 8,  9, 10, 11]])"
            ]
          },
          "execution_count": 46,
          "metadata": {},
          "output_type": "execute_result"
        }
      ],
      "source": [
        "a"
      ]
    },
    {
      "cell_type": "code",
      "execution_count": null,
      "metadata": {
        "colab": {
          "base_uri": "https://localhost:8080/"
        },
        "id": "jy0vx6pMjHRY",
        "outputId": "e72a7247-29b4-4f3b-87b3-e095d892ffb1"
      },
      "outputs": [
        {
          "name": "stdout",
          "output_type": "stream",
          "text": [
            "[[ 3  2  1  0]\n",
            " [ 7  6  5  4]\n",
            " [11 10  9  8]]\n"
          ]
        }
      ],
      "source": [
        "print(a[:,::-1]) # Reverse the order of the columns"
      ]
    },
    {
      "cell_type": "code",
      "execution_count": null,
      "metadata": {
        "colab": {
          "base_uri": "https://localhost:8080/"
        },
        "id": "UvvkN75djJsp",
        "outputId": "8a508b9f-8aa6-4d87-934d-589718283acd"
      },
      "outputs": [
        {
          "data": {
            "text/plain": [
              "array([[ 0,  1,  2,  3],\n",
              "       [ 4,  5,  6,  7],\n",
              "       [ 8,  9, 10, 11]])"
            ]
          },
          "execution_count": 48,
          "metadata": {},
          "output_type": "execute_result"
        }
      ],
      "source": [
        "a"
      ]
    },
    {
      "cell_type": "code",
      "execution_count": null,
      "metadata": {
        "colab": {
          "base_uri": "https://localhost:8080/"
        },
        "id": "hicm6fQEjMBg",
        "outputId": "2db6ca97-0904-4158-d555-49b3cb86bcbc"
      },
      "outputs": [
        {
          "name": "stdout",
          "output_type": "stream",
          "text": [
            "[[11 10  9  8]\n",
            " [ 7  6  5  4]\n",
            " [ 3  2  1  0]]\n"
          ]
        }
      ],
      "source": [
        "print(a[::-1,::-1]) # Reverse the order of the rows and columns"
      ]
    },
    {
      "cell_type": "code",
      "execution_count": null,
      "metadata": {
        "colab": {
          "base_uri": "https://localhost:8080/"
        },
        "id": "_v2pCAYRjOSi",
        "outputId": "08fd6841-770f-4e78-97ce-8d2ee3ccd107"
      },
      "outputs": [
        {
          "name": "stdout",
          "output_type": "stream",
          "text": [
            "[[ 0  1  2  3]\n",
            " [ 4  5  6  7]\n",
            " [ 8  9 10 11]] (3, 4)\n",
            "[[ 0  4  8]\n",
            " [ 1  5  9]\n",
            " [ 2  6 10]\n",
            " [ 3  7 11]] (4, 3)\n"
          ]
        }
      ],
      "source": [
        "t=a.transpose()\n",
        "print(a, a.shape) # a has 3 rows and 4 columns\n",
        "print(t, t.shape) # t changes a to 4 rows and 3 columns"
      ]
    },
    {
      "cell_type": "code",
      "execution_count": null,
      "metadata": {
        "colab": {
          "base_uri": "https://localhost:8080/"
        },
        "id": "m72LnB5FjQIB",
        "outputId": "1717bd03-8bba-4ab7-d441-1f60f6d998dd"
      },
      "outputs": [
        {
          "name": "stdout",
          "output_type": "stream",
          "text": [
            "[[ 0  4  8]\n",
            " [ 1  5  9]\n",
            " [ 2  6 10]\n",
            " [ 3  7 11]]\n"
          ]
        }
      ],
      "source": [
        "print(a.T) # the same result as transpose() function"
      ]
    },
    {
      "cell_type": "markdown",
      "metadata": {
        "id": "gVqskB_kjSTI"
      },
      "source": [
        "##3. Unite and divide array"
      ]
    },
    {
      "cell_type": "code",
      "execution_count": 103,
      "metadata": {
        "colab": {
          "base_uri": "https://localhost:8080/"
        },
        "id": "jZntYcc-jXkd",
        "outputId": "f35da265-58f9-4685-907b-f66023d0a6ac"
      },
      "outputs": [
        {
          "output_type": "stream",
          "name": "stdout",
          "text": [
            "[[0 1 2]\n",
            " [3 4 5]\n",
            " [6 7 8]]\n",
            "[[ 0  2  4]\n",
            " [ 6  8 10]\n",
            " [12 14 16]]\n"
          ]
        }
      ],
      "source": [
        "a=np.arange(9).reshape(3, 3)\n",
        "b=a*2\n",
        "print(a)\n",
        "print(b)"
      ]
    },
    {
      "cell_type": "code",
      "execution_count": 104,
      "metadata": {
        "colab": {
          "base_uri": "https://localhost:8080/"
        },
        "id": "PMs9-1IwjaVp",
        "outputId": "f984c284-6077-4469-c24d-27dc01eecd78"
      },
      "outputs": [
        {
          "output_type": "stream",
          "name": "stdout",
          "text": [
            "[[ 0  1  2]\n",
            " [ 3  4  5]\n",
            " [ 6  7  8]\n",
            " [ 0  2  4]\n",
            " [ 6  8 10]\n",
            " [12 14 16]] (6, 3)\n"
          ]
        }
      ],
      "source": [
        "r=np.vstack((a, b))\n",
        "print(r, r.shape)"
      ]
    },
    {
      "cell_type": "code",
      "execution_count": 85,
      "metadata": {
        "colab": {
          "base_uri": "https://localhost:8080/"
        },
        "id": "Xj1CuI8njcNL",
        "outputId": "fd62b261-6d66-4d74-8165-dc0462ec3682"
      },
      "outputs": [
        {
          "output_type": "stream",
          "name": "stdout",
          "text": [
            "[[ 0  1  2]\n",
            " [ 3  4  5]\n",
            " [ 6  7  8]\n",
            " [ 0  2  4]\n",
            " [ 6  8 10]\n",
            " [12 14 16]] (6, 3)\n"
          ]
        }
      ],
      "source": [
        "c=np.row_stack((a, b))\n",
        "print(c, c.shape)"
      ]
    },
    {
      "cell_type": "code",
      "execution_count": null,
      "metadata": {
        "colab": {
          "base_uri": "https://localhost:8080/"
        },
        "id": "JczZbaZTjgqP",
        "outputId": "bb24c22b-a4db-4f52-9801-d2c9121ff244"
      },
      "outputs": [
        {
          "name": "stdout",
          "output_type": "stream",
          "text": [
            "[[ 0  1  2]\n",
            " [ 3  4  5]\n",
            " [ 6  7  8]\n",
            " [ 0  2  4]\n",
            " [ 6  8 10]\n",
            " [12 14 16]] (6, 3)\n"
          ]
        }
      ],
      "source": [
        "x=np.concatenate((a, b), axis=0)\n",
        "print(x, x.shape)"
      ]
    },
    {
      "cell_type": "markdown",
      "metadata": {
        "id": "rbZHGTo2jjZx"
      },
      "source": [
        "###Combine in the column direction\n"
      ]
    },
    {
      "cell_type": "code",
      "execution_count": null,
      "metadata": {
        "colab": {
          "base_uri": "https://localhost:8080/"
        },
        "id": "t0NMH0trjllp",
        "outputId": "0ce13f2b-1944-43d2-8f4c-d3916cd0298e"
      },
      "outputs": [
        {
          "name": "stdout",
          "output_type": "stream",
          "text": [
            "[[ 0  1  2  0  2  4]\n",
            " [ 3  4  5  6  8 10]\n",
            " [ 6  7  8 12 14 16]] (3, 6)\n"
          ]
        }
      ],
      "source": [
        "r=np.hstack((a, b))\n",
        "print(r, r.shape)"
      ]
    },
    {
      "cell_type": "code",
      "execution_count": null,
      "metadata": {
        "colab": {
          "base_uri": "https://localhost:8080/"
        },
        "id": "4vDyI8Xfjn-D",
        "outputId": "af541693-9c74-42c4-86cb-b1d59275216e"
      },
      "outputs": [
        {
          "name": "stdout",
          "output_type": "stream",
          "text": [
            "[[ 0  1  2  0  2  4]\n",
            " [ 3  4  5  6  8 10]\n",
            " [ 6  7  8 12 14 16]] (3, 6)\n"
          ]
        }
      ],
      "source": [
        "c=np.column_stack((a, b))\n",
        "print(c, c.shape)"
      ]
    },
    {
      "cell_type": "code",
      "execution_count": null,
      "metadata": {
        "colab": {
          "base_uri": "https://localhost:8080/"
        },
        "id": "8GbPTAq5jqId",
        "outputId": "ae6ed972-97c1-4fd9-8395-b4e6d444c90b"
      },
      "outputs": [
        {
          "name": "stdout",
          "output_type": "stream",
          "text": [
            "[[ 0  1  2  0  2  4]\n",
            " [ 3  4  5  6  8 10]\n",
            " [ 6  7  8 12 14 16]] (3, 6)\n"
          ]
        }
      ],
      "source": [
        "x=np.concatenate((a, b), axis=1)\n",
        "print(x, x.shape)"
      ]
    },
    {
      "cell_type": "markdown",
      "metadata": {
        "id": "WMz5Ypz-jsVj"
      },
      "source": [
        "###Split by row"
      ]
    },
    {
      "cell_type": "code",
      "execution_count": 108,
      "metadata": {
        "colab": {
          "base_uri": "https://localhost:8080/"
        },
        "id": "LbC0G7_LjuSv",
        "outputId": "bfe47172-b716-4245-ae68-3716e25dcb1c"
      },
      "outputs": [
        {
          "output_type": "stream",
          "name": "stdout",
          "text": [
            "[[ 0  1  2]\n",
            " [ 3  4  5]\n",
            " [ 6  7  8]\n",
            " [ 9 10 11]]\n"
          ]
        }
      ],
      "source": [
        "a=np.arange(12).reshape(4, 3)\n",
        "print(a)"
      ]
    },
    {
      "cell_type": "code",
      "execution_count": 110,
      "metadata": {
        "colab": {
          "base_uri": "https://localhost:8080/"
        },
        "id": "9Lnt1FUdjwx7",
        "outputId": "4538e4af-d7de-4de5-859e-492857e788cc"
      },
      "outputs": [
        {
          "output_type": "stream",
          "name": "stdout",
          "text": [
            "[array([[0, 1, 2]]), array([[3, 4, 5]]), array([[6, 7, 8]]), array([[ 9, 10, 11]])]\n"
          ]
        }
      ],
      "source": [
        "print(np.vsplit(a, 4))"
      ]
    },
    {
      "cell_type": "code",
      "execution_count": 111,
      "metadata": {
        "colab": {
          "base_uri": "https://localhost:8080/"
        },
        "id": "4UBbM04Wjy0w",
        "outputId": "5add176b-9f95-4b6b-93a9-c0e1a72e1740"
      },
      "outputs": [
        {
          "output_type": "stream",
          "name": "stdout",
          "text": [
            "[array([[0, 1, 2]]), array([[3, 4, 5]]), array([[6, 7, 8]]), array([[ 9, 10, 11]])]\n"
          ]
        }
      ],
      "source": [
        "print(np.split(a, 4, axis=0))"
      ]
    },
    {
      "cell_type": "code",
      "execution_count": 112,
      "metadata": {
        "id": "yeVS64zuh844",
        "outputId": "ece07f6b-6272-427e-9b2f-16885819f0a9",
        "colab": {
          "base_uri": "https://localhost:8080/"
        }
      },
      "outputs": [
        {
          "output_type": "stream",
          "name": "stdout",
          "text": [
            "[[0 1 2]] [[3 4 5]] [[6 7 8]] [[ 9 10 11]]\n"
          ]
        }
      ],
      "source": [
        "print(a[0:1], a[1:2], a[2:3], a[3:])"
      ]
    },
    {
      "cell_type": "markdown",
      "metadata": {
        "id": "e763zX5xj1IE"
      },
      "source": [
        "###Split by column"
      ]
    },
    {
      "cell_type": "code",
      "execution_count": 113,
      "metadata": {
        "colab": {
          "base_uri": "https://localhost:8080/"
        },
        "id": "bUQHkFg0j3Xn",
        "outputId": "3bdfd116-c195-4240-d545-57d0cb1bf5cd"
      },
      "outputs": [
        {
          "output_type": "stream",
          "name": "stdout",
          "text": [
            "[[ 0  1  2  3]\n",
            " [ 4  5  6  7]\n",
            " [ 8  9 10 11]]\n"
          ]
        }
      ],
      "source": [
        "a=np.arange(12).reshape(3, 4)\n",
        "print(a)"
      ]
    },
    {
      "cell_type": "code",
      "execution_count": 125,
      "metadata": {
        "colab": {
          "base_uri": "https://localhost:8080/"
        },
        "id": "dKYbGNpZj5U4",
        "outputId": "c2ed4561-a844-40d9-952f-757e3774fefc"
      },
      "outputs": [
        {
          "output_type": "stream",
          "name": "stdout",
          "text": [
            "[array([[0],\n",
            "       [4],\n",
            "       [8]]), array([[1],\n",
            "       [5],\n",
            "       [9]]), array([[ 2],\n",
            "       [ 6],\n",
            "       [10]]), array([[ 3],\n",
            "       [ 7],\n",
            "       [11]])]\n"
          ]
        }
      ],
      "source": [
        "print(np.hsplit(a, 4))"
      ]
    },
    {
      "cell_type": "code",
      "execution_count": 126,
      "metadata": {
        "colab": {
          "base_uri": "https://localhost:8080/"
        },
        "id": "B3ZJI1Flj7IW",
        "outputId": "5b9391fc-b5a7-424a-f9ad-dcc0cf27f04e"
      },
      "outputs": [
        {
          "output_type": "stream",
          "name": "stdout",
          "text": [
            "[array([[0],\n",
            "       [4],\n",
            "       [8]]), array([[1],\n",
            "       [5],\n",
            "       [9]]), array([[ 2],\n",
            "       [ 6],\n",
            "       [10]]), array([[ 3],\n",
            "       [ 7],\n",
            "       [11]])]\n"
          ]
        }
      ],
      "source": [
        "print(np.split(a, 4, axis=1))"
      ]
    },
    {
      "cell_type": "markdown",
      "metadata": {
        "id": "TCw6pPATj94A"
      },
      "source": [
        "#Section 03. Indexing and slicing of array\n",
        "##1. Indexing and slicing of 1D array"
      ]
    },
    {
      "cell_type": "code",
      "execution_count": 127,
      "metadata": {
        "colab": {
          "base_uri": "https://localhost:8080/"
        },
        "id": "Obf1ZLI2kEP4",
        "outputId": "3e3e8b61-a391-4a6a-ed32-882041835b23"
      },
      "outputs": [
        {
          "output_type": "stream",
          "name": "stdout",
          "text": [
            "[0 1 2 3 4 5] (6,)\n"
          ]
        }
      ],
      "source": [
        "d=np.arange(6)\n",
        "print(d, d.shape)"
      ]
    },
    {
      "cell_type": "code",
      "execution_count": 129,
      "metadata": {
        "colab": {
          "base_uri": "https://localhost:8080/"
        },
        "id": "T2BLA4tHkH0P",
        "outputId": "f7075f74-390a-4f3a-8755-4d4953739676"
      },
      "outputs": [
        {
          "output_type": "stream",
          "name": "stdout",
          "text": [
            "0 1 2 5 4\n"
          ]
        }
      ],
      "source": [
        "# Indexing of 1D array\n",
        "print(d[0], d[1], d[2], d[-1], d[-2])"
      ]
    },
    {
      "cell_type": "code",
      "execution_count": null,
      "metadata": {
        "colab": {
          "base_uri": "https://localhost:8080/"
        },
        "id": "pDBrTBkbkKBG",
        "outputId": "23dd9250-fa3d-4291-dabd-973d47c30a83"
      },
      "outputs": [
        {
          "name": "stdout",
          "output_type": "stream",
          "text": [
            "[2] [0 1 2 3 4 5] [0 1 2 3 4]\n",
            "[0 2 4] [5 4 3 2 1 0]\n",
            "[10  1  2  3  4  5]\n"
          ]
        }
      ],
      "source": [
        "# Slicing of 1D array\n",
        "print(d[2:3], d[:], d[:-1])\n",
        "print(d[::2], d[::-1])\n",
        "d[0]=10 # Change the value of element\n",
        "print(d)"
      ]
    },
    {
      "cell_type": "markdown",
      "metadata": {
        "id": "NXFZ4mlUkNVI"
      },
      "source": [
        "##2. Indexing and slicing of 2D array\n"
      ]
    },
    {
      "cell_type": "code",
      "execution_count": 141,
      "metadata": {
        "colab": {
          "base_uri": "https://localhost:8080/"
        },
        "id": "QRknWj42kQA6",
        "outputId": "54681b57-a725-4a03-cc6d-0a2cb5d92ae9"
      },
      "outputs": [
        {
          "output_type": "stream",
          "name": "stdout",
          "text": [
            "[[ 0  1  2  3]\n",
            " [ 4  5  6  7]\n",
            " [ 8  9 10 11]] (3, 4)\n"
          ]
        }
      ],
      "source": [
        "d=np.arange(12).reshape(3, 4)\n",
        "print(d, d.shape)"
      ]
    },
    {
      "cell_type": "code",
      "execution_count": 142,
      "metadata": {
        "colab": {
          "base_uri": "https://localhost:8080/"
        },
        "id": "hc-apYFykSOb",
        "outputId": "b2a62963-6476-41bd-a4cf-a03a059623cb"
      },
      "outputs": [
        {
          "output_type": "stream",
          "name": "stdout",
          "text": [
            "0\n",
            "0\n",
            "9\n"
          ]
        }
      ],
      "source": [
        "# Indexing of 2D array\n",
        "print(d[0][0]) # indexing row 0 column 0\n",
        "print(d[0,0])  # indexing row 0 column 0\n",
        "print(d[2,1])"
      ]
    },
    {
      "cell_type": "code",
      "execution_count": 143,
      "metadata": {
        "colab": {
          "base_uri": "https://localhost:8080/"
        },
        "id": "n-eJ-a0VkU6X",
        "outputId": "3f35024b-ec65-4419-d07f-160b44f7a61d"
      },
      "outputs": [
        {
          "output_type": "stream",
          "name": "stdout",
          "text": [
            "[0 1 2 3]\n",
            "[0 1 2 3]\n",
            "[[ 0  1  2]\n",
            " [ 4  5  6]\n",
            " [ 8  9 10]]\n",
            "[[ 0  2]\n",
            " [ 8 10]]\n"
          ]
        }
      ],
      "source": [
        "# Slicing of 2D array\n",
        "print(d[0]) #  Slicing only row 0\n",
        "print(d[0,:]) #  Slicing all columns of row 0\n",
        "print(d[:,:-1]) #  Slicing all columns and rows except the end column\n",
        "print(d[::2,::2]) # Slicing full rows and columns at intervals of two rows and two columns"
      ]
    },
    {
      "cell_type": "code",
      "execution_count": 144,
      "metadata": {
        "colab": {
          "base_uri": "https://localhost:8080/"
        },
        "id": "fNxaz2XZkXFT",
        "outputId": "740d4535-4036-41c3-a290-70adefab916d"
      },
      "outputs": [
        {
          "output_type": "stream",
          "name": "stdout",
          "text": [
            "[[20 20 20 20]\n",
            " [ 4  5  6  7]\n",
            " [ 8  9 10 11]]\n"
          ]
        }
      ],
      "source": [
        "d[0]=20 # change all elements of row 0 to 20\n",
        "print(d)"
      ]
    },
    {
      "cell_type": "code",
      "execution_count": 145,
      "metadata": {
        "colab": {
          "base_uri": "https://localhost:8080/"
        },
        "id": "M5n0r_TkkY2A",
        "outputId": "b09fdeca-c413-4227-a800-003fa310e914"
      },
      "outputs": [
        {
          "output_type": "stream",
          "name": "stdout",
          "text": [
            "[[30 30]\n",
            " [30 30]]\n",
            "[[30 20 20 30]\n",
            " [ 4  5  6  7]\n",
            " [30  9 10 30]]\n"
          ]
        }
      ],
      "source": [
        "d[::2,::3]=30 # Change the sliced element values at once\n",
        "print(d[::2,::3])\n",
        "print(d)"
      ]
    },
    {
      "cell_type": "code",
      "execution_count": null,
      "metadata": {
        "colab": {
          "base_uri": "https://localhost:8080/"
        },
        "id": "7PvFXxSqkawa",
        "outputId": "54746968-34b9-4cf4-85c0-657c10ad0f33"
      },
      "outputs": [
        {
          "name": "stdout",
          "output_type": "stream",
          "text": [
            "[[-1 -1 -1 -1]\n",
            " [-1 -1 -1 -1]\n",
            " [-1 -1 -1 -1]]\n"
          ]
        }
      ],
      "source": [
        "d[:,:]=-1 # Change all element values at once\n",
        "print(d)"
      ]
    },
    {
      "cell_type": "markdown",
      "metadata": {
        "id": "74xtrfuckcsM"
      },
      "source": [
        "##3. Indexing and slicing of 3D array"
      ]
    },
    {
      "cell_type": "code",
      "execution_count": 152,
      "metadata": {
        "colab": {
          "base_uri": "https://localhost:8080/"
        },
        "id": "GWqcdZfPkgxo",
        "outputId": "e0fb210f-21a0-41ab-a68d-fb476342f3be"
      },
      "outputs": [
        {
          "output_type": "stream",
          "name": "stdout",
          "text": [
            "[[[ 0  1  2]\n",
            "  [ 3  4  5]]\n",
            "\n",
            " [[ 6  7  8]\n",
            "  [ 9 10 11]]] (2, 2, 3)\n"
          ]
        }
      ],
      "source": [
        "d=np.arange(12).reshape(2, 2, 3)\n",
        "print(d, d.shape)"
      ]
    },
    {
      "cell_type": "code",
      "execution_count": 153,
      "metadata": {
        "colab": {
          "base_uri": "https://localhost:8080/"
        },
        "id": "YWqs7Osiki1r",
        "outputId": "d7a82d93-28bd-4821-bfde-5f4de64f69b2"
      },
      "outputs": [
        {
          "output_type": "stream",
          "name": "stdout",
          "text": [
            "0\n",
            "0\n",
            "5\n"
          ]
        }
      ],
      "source": [
        "# Indexing of 3D array\n",
        "print(d[0][0][0]) # indexing height 0 row 0 column 0\n",
        "print(d[0, 0, 0]) # indexing height 0 row 0 column 0\n",
        "print(d[0, 1, 2]) # indexing height 0 row 1 column 2"
      ]
    },
    {
      "cell_type": "code",
      "execution_count": 154,
      "metadata": {
        "colab": {
          "base_uri": "https://localhost:8080/"
        },
        "id": "d4QDj3gMkk6k",
        "outputId": "402d5c96-2b0a-4434-c84b-7f68b14f0375"
      },
      "outputs": [
        {
          "output_type": "stream",
          "name": "stdout",
          "text": [
            "[[[0 1]]\n",
            "\n",
            " [[6 7]]]\n"
          ]
        }
      ],
      "source": [
        "# Slicing of 3D array\n",
        "print(d[:,:-1,:-1])"
      ]
    },
    {
      "cell_type": "code",
      "execution_count": 156,
      "metadata": {
        "colab": {
          "base_uri": "https://localhost:8080/"
        },
        "id": "kLplg9zbknMv",
        "outputId": "b1ac265b-0b9e-47bd-81b7-202843705aba"
      },
      "outputs": [
        {
          "output_type": "stream",
          "name": "stdout",
          "text": [
            "[[[ 4  5]]\n",
            "\n",
            " [[10 11]]]\n"
          ]
        }
      ],
      "source": [
        "print(d[:,1:,1:])"
      ]
    },
    {
      "cell_type": "code",
      "source": [],
      "metadata": {
        "id": "NVcyZAgwh6QD"
      },
      "execution_count": null,
      "outputs": []
    },
    {
      "cell_type": "code",
      "execution_count": 164,
      "metadata": {
        "colab": {
          "base_uri": "https://localhost:8080/"
        },
        "id": "ZvjUwoJ3ko6Z",
        "outputId": "df70b514-270f-41c5-931b-7c580c0105f0"
      },
      "outputs": [
        {
          "output_type": "stream",
          "name": "stdout",
          "text": [
            "[[ 2  5]\n",
            " [ 8 11]]\n",
            "(2, 2)\n"
          ]
        }
      ],
      "source": [
        "print(d[:,:,-1])\n",
        "print(d[:,:,-1].shape)"
      ]
    },
    {
      "cell_type": "code",
      "execution_count": 165,
      "metadata": {
        "colab": {
          "base_uri": "https://localhost:8080/"
        },
        "id": "5AWxnRh6kqYC",
        "outputId": "ff1a5281-b244-4359-850b-a9f9c3905a44"
      },
      "outputs": [
        {
          "output_type": "stream",
          "name": "stdout",
          "text": [
            "[ 5 11]\n",
            "(2,)\n",
            "11\n",
            "()\n"
          ]
        }
      ],
      "source": [
        "print(d[:,-1,-1])\n",
        "print(d[:,-1,-1].shape)\n",
        "\n",
        "print(d[-1,-1,-1])\n",
        "print(d[-1,-1,-1].shape)"
      ]
    },
    {
      "cell_type": "code",
      "execution_count": 166,
      "metadata": {
        "colab": {
          "base_uri": "https://localhost:8080/"
        },
        "id": "bftSa0AXkz7I",
        "outputId": "8c0eada0-5b40-4bca-f04a-c67fcf0172a7"
      },
      "outputs": [
        {
          "output_type": "stream",
          "name": "stdout",
          "text": [
            "[ 0  1  2  3  4  5  6  7  8  9 10 11] (12,)\n",
            "0\n",
            "[0]\n"
          ]
        }
      ],
      "source": [
        "a=np.arange(12)\n",
        "print(a, a.shape)\n",
        "print(a[0]) # scala\n",
        "print(a[0:1]) # ndarray"
      ]
    },
    {
      "cell_type": "markdown",
      "metadata": {
        "id": "8Dz-NXPZk2Qt"
      },
      "source": [
        "##4. Bool indexing"
      ]
    },
    {
      "cell_type": "code",
      "execution_count": null,
      "metadata": {
        "colab": {
          "base_uri": "https://localhost:8080/"
        },
        "id": "ZaYhOLuuk7ks",
        "outputId": "9ec7609b-6da8-43fd-ea21-e1985c464c4f"
      },
      "outputs": [
        {
          "name": "stdout",
          "output_type": "stream",
          "text": [
            "[1 2 3 4 5 6]\n"
          ]
        }
      ],
      "source": [
        "import numpy as np\n",
        "a=np.array([1, 2, 3, 4, 5, 6])\n",
        "print(a)"
      ]
    },
    {
      "cell_type": "code",
      "execution_count": null,
      "metadata": {
        "colab": {
          "base_uri": "https://localhost:8080/"
        },
        "id": "dPdbFbKnk9wf",
        "outputId": "5e562a48-ecee-4088-ed7c-ffb5d7f5b88c"
      },
      "outputs": [
        {
          "name": "stdout",
          "output_type": "stream",
          "text": [
            "[False False  True  True  True  True]\n"
          ]
        }
      ],
      "source": [
        "print(a>2)"
      ]
    },
    {
      "cell_type": "code",
      "execution_count": null,
      "metadata": {
        "colab": {
          "base_uri": "https://localhost:8080/"
        },
        "id": "4EJdUnOBk_js",
        "outputId": "51079c78-36bc-47d6-8179-e1b94fa5ed02"
      },
      "outputs": [
        {
          "name": "stdout",
          "output_type": "stream",
          "text": [
            "[3 4 5 6]\n"
          ]
        }
      ],
      "source": [
        "print(a[a>2])"
      ]
    },
    {
      "cell_type": "markdown",
      "metadata": {
        "id": "DeYAZt8dlBQE"
      },
      "source": [
        "##5. Condition Filter"
      ]
    },
    {
      "cell_type": "code",
      "execution_count": 169,
      "metadata": {
        "colab": {
          "base_uri": "https://localhost:8080/"
        },
        "id": "bzd2PpculD0N",
        "outputId": "2387cccf-2b9d-44e2-a6c1-3a57e0a89386"
      },
      "outputs": [
        {
          "output_type": "execute_result",
          "data": {
            "text/plain": [
              "array([False, False,  True,  True,  True,  True])"
            ]
          },
          "metadata": {},
          "execution_count": 169
        }
      ],
      "source": [
        "a=np.array([1, 2, 3, 4, 5, 6])\n",
        "result=a>2\n",
        "result"
      ]
    },
    {
      "cell_type": "code",
      "execution_count": 170,
      "metadata": {
        "colab": {
          "base_uri": "https://localhost:8080/"
        },
        "id": "lFWW6j0GlF1O",
        "outputId": "cfa50822-9cba-454e-b123-4b6b3aa15bb2"
      },
      "outputs": [
        {
          "output_type": "execute_result",
          "data": {
            "text/plain": [
              "array([3, 4, 5, 6])"
            ]
          },
          "metadata": {},
          "execution_count": 170
        }
      ],
      "source": [
        "a[a>2]"
      ]
    },
    {
      "cell_type": "code",
      "execution_count": 171,
      "metadata": {
        "colab": {
          "base_uri": "https://localhost:8080/"
        },
        "id": "YdePnHtslH1m",
        "outputId": "523eccee-6344-4cae-80d7-46e262795844"
      },
      "outputs": [
        {
          "output_type": "execute_result",
          "data": {
            "text/plain": [
              "array([1, 2, 4, 5, 6])"
            ]
          },
          "metadata": {},
          "execution_count": 171
        }
      ],
      "source": [
        "a[a!=3]"
      ]
    },
    {
      "cell_type": "code",
      "execution_count": 173,
      "metadata": {
        "colab": {
          "base_uri": "https://localhost:8080/"
        },
        "id": "RmX2KeLclJ5q",
        "outputId": "8201f581-6afd-4137-9d8f-d2603e99275f"
      },
      "outputs": [
        {
          "output_type": "stream",
          "name": "stdout",
          "text": [
            "[3 4 5]\n",
            "[2 4 6]\n",
            "[1 2 3]\n"
          ]
        }
      ],
      "source": [
        "print(a[(a>2) & (a<6)]) # Extract only elements greater than 2 and less than 6\n",
        "print(a[a % 2==0]) # Extract only elements whose remainder is 0 divided by 2\n",
        "print(a[a<a.mean( )]) # Extract only values less than average"
      ]
    },
    {
      "cell_type": "code",
      "execution_count": 174,
      "metadata": {
        "colab": {
          "base_uri": "https://localhost:8080/"
        },
        "id": "AoVpO58KlMQv",
        "outputId": "0d02d8ac-3dd6-4118-e286-9752172e3dfd"
      },
      "outputs": [
        {
          "output_type": "stream",
          "name": "stdout",
          "text": [
            "[[1 2 3 4 5 6]]\n",
            "[]\n"
          ]
        }
      ],
      "source": [
        "print(a[True])\n",
        "print(a[False])"
      ]
    },
    {
      "cell_type": "markdown",
      "metadata": {
        "id": "7_UxtImclQQO"
      },
      "source": [
        "#Section 04. Sort of Numpy arrays\n",
        "##1 Basic sort : sort function"
      ]
    },
    {
      "cell_type": "code",
      "execution_count": 175,
      "metadata": {
        "colab": {
          "base_uri": "https://localhost:8080/"
        },
        "id": "C5JAjgpOlcsq",
        "outputId": "4d613a9c-2824-4e49-c9b2-9e35d1394d3b"
      },
      "outputs": [
        {
          "output_type": "stream",
          "name": "stdout",
          "text": [
            "[2 8 9 7 3 1 4 5 6] (9,)\n",
            "[1 2 3 4 5 6 7 8 9] [2 8 9 7 3 1 4 5 6]\n"
          ]
        }
      ],
      "source": [
        "a=np.array([2, 8, 9, 7, 3, 1, 4, 5, 6])\n",
        "print(a, a.shape)\n",
        "r=np.sort(a)  # Sort in ascending order without changing the source\n",
        "print(r, a)"
      ]
    },
    {
      "cell_type": "code",
      "execution_count": 176,
      "metadata": {
        "colab": {
          "base_uri": "https://localhost:8080/"
        },
        "id": "amO84Kk5le_J",
        "outputId": "540654ca-217c-4d84-86a6-dd7ddceb52e7"
      },
      "outputs": [
        {
          "output_type": "stream",
          "name": "stdout",
          "text": [
            "[1 2 3 4 5 6 7 8 9]\n"
          ]
        }
      ],
      "source": [
        "# Sort in ascending order\n",
        "a.sort()\n",
        "print(a)"
      ]
    },
    {
      "cell_type": "code",
      "execution_count": 177,
      "metadata": {
        "colab": {
          "base_uri": "https://localhost:8080/"
        },
        "id": "K3pVEjLolhFC",
        "outputId": "a8053dbd-3476-4666-fb57-a4a01a603416"
      },
      "outputs": [
        {
          "output_type": "stream",
          "name": "stdout",
          "text": [
            "[9 8 7 6 5 4 3 2 1]\n"
          ]
        }
      ],
      "source": [
        "# Sort in descending order\n",
        "r=np.sort(a)[::-1]\n",
        "print(r)"
      ]
    },
    {
      "cell_type": "markdown",
      "metadata": {
        "id": "mhB898x9ljoG"
      },
      "source": [
        "##2. Index return sort: argsort function"
      ]
    },
    {
      "cell_type": "code",
      "execution_count": 187,
      "metadata": {
        "colab": {
          "base_uri": "https://localhost:8080/"
        },
        "id": "qjZSCP25lm64",
        "outputId": "01e05900-0736-4c68-ded2-6d850a040832"
      },
      "outputs": [
        {
          "output_type": "stream",
          "name": "stdout",
          "text": [
            "[2 8 9 7 3 1 4 5 6] (9,)\n"
          ]
        }
      ],
      "source": [
        "a=np.array([2, 8, 9, 7, 3, 1, 4, 5, 6])\n",
        "print(a, a.shape)"
      ]
    },
    {
      "cell_type": "code",
      "execution_count": 179,
      "metadata": {
        "colab": {
          "base_uri": "https://localhost:8080/"
        },
        "id": "EyeeMrQblpND",
        "outputId": "adb377d1-ef8a-4816-a9cd-00df4660b2e2"
      },
      "outputs": [
        {
          "output_type": "execute_result",
          "data": {
            "text/plain": [
              "array([5, 0, 4, 6, 7, 8, 3, 1, 2])"
            ]
          },
          "metadata": {},
          "execution_count": 179
        }
      ],
      "source": [
        "np.argsort(a)"
      ]
    },
    {
      "cell_type": "code",
      "execution_count": 188,
      "metadata": {
        "colab": {
          "base_uri": "https://localhost:8080/"
        },
        "id": "bEt8HFTAlrMl",
        "outputId": "4d0defd0-30ab-49d2-9843-27482cae3390"
      },
      "outputs": [
        {
          "output_type": "stream",
          "name": "stdout",
          "text": [
            "[5 0 4 6 7 8 3 1 2]\n"
          ]
        }
      ],
      "source": [
        "sort_index=np.argsort(a)\n",
        "print(sort_index)"
      ]
    },
    {
      "cell_type": "markdown",
      "metadata": {
        "id": "s1LMao5iluWI"
      },
      "source": [
        "\n",
        "##3. Sort of 2D arrays\n"
      ]
    },
    {
      "cell_type": "code",
      "execution_count": 181,
      "metadata": {
        "colab": {
          "base_uri": "https://localhost:8080/"
        },
        "id": "zXZDLXNElxCn",
        "outputId": "4136b7e3-f206-4588-9d4f-6bab7301c0a8"
      },
      "outputs": [
        {
          "output_type": "stream",
          "name": "stdout",
          "text": [
            "[[ 5  6  7  8]\n",
            " [ 4  3  2  1]\n",
            " [10  9 12 11]]\n",
            "(3, 4)\n"
          ]
        }
      ],
      "source": [
        "arr2d=np.array([[5, 6, 7, 8],\n",
        " [4, 3, 2, 1],\n",
        " [10, 9, 12, 11]])\n",
        "print(arr2d)\n",
        "print(arr2d.shape)"
      ]
    },
    {
      "cell_type": "code",
      "execution_count": 182,
      "metadata": {
        "colab": {
          "base_uri": "https://localhost:8080/"
        },
        "id": "1rHOQuqElzom",
        "outputId": "fa45bb45-6b49-47a9-d9b4-e264aece2a72"
      },
      "outputs": [
        {
          "output_type": "execute_result",
          "data": {
            "text/plain": [
              "array([[ 5,  6,  7,  8],\n",
              "       [ 1,  2,  3,  4],\n",
              "       [ 9, 10, 11, 12]])"
            ]
          },
          "metadata": {},
          "execution_count": 182
        }
      ],
      "source": [
        "# Sort elements in the same row in the column direction\n",
        "np.sort(arr2d, axis=1)"
      ]
    },
    {
      "cell_type": "code",
      "execution_count": 183,
      "metadata": {
        "colab": {
          "base_uri": "https://localhost:8080/"
        },
        "id": "Rp1xNCTzl1dJ",
        "outputId": "24b791b1-5986-49c2-f58b-b2c12418bf82"
      },
      "outputs": [
        {
          "output_type": "execute_result",
          "data": {
            "text/plain": [
              "array([[ 4,  3,  2,  1],\n",
              "       [ 5,  6,  7,  8],\n",
              "       [10,  9, 12, 11]])"
            ]
          },
          "metadata": {},
          "execution_count": 183
        }
      ],
      "source": [
        "# Sort elements in the same column in the row direction\n",
        "np.sort(arr2d, axis=0)"
      ]
    },
    {
      "cell_type": "code",
      "execution_count": 189,
      "metadata": {
        "colab": {
          "base_uri": "https://localhost:8080/"
        },
        "id": "XEKPcHkul3ZW",
        "outputId": "577cf8d6-410b-4cf3-c95c-7a62fc45b392"
      },
      "outputs": [
        {
          "output_type": "stream",
          "name": "stdout",
          "text": [
            "[[ 5  6  7  8]\n",
            " [ 4  3  2  1]\n",
            " [10  9 12 11]]\n",
            "[[ 5  6  7  8]\n",
            " [ 1  2  3  4]\n",
            " [ 9 10 11 12]]\n"
          ]
        },
        {
          "output_type": "execute_result",
          "data": {
            "text/plain": [
              "array([[0, 1, 2, 3],\n",
              "       [3, 2, 1, 0],\n",
              "       [1, 0, 3, 2]])"
            ]
          },
          "metadata": {},
          "execution_count": 189
        }
      ],
      "source": [
        "# Sort the same row in the column direction\n",
        "print(arr2d)\n",
        "print(np.sort(arr2d))\n",
        "np.argsort(arr2d, axis=1)"
      ]
    },
    {
      "cell_type": "code",
      "execution_count": null,
      "metadata": {
        "colab": {
          "base_uri": "https://localhost:8080/"
        },
        "id": "u9VRQzgvl6N0",
        "outputId": "e74fdf69-17bd-41aa-f90e-9c2b92ce5290"
      },
      "outputs": [
        {
          "name": "stdout",
          "output_type": "stream",
          "text": [
            "[[ 5  6  7  8]\n",
            " [ 4  3  2  1]\n",
            " [10  9 12 11]]\n",
            "[[ 4  3  2  1]\n",
            " [ 5  6  7  8]\n",
            " [10  9 12 11]]\n"
          ]
        },
        {
          "data": {
            "text/plain": [
              "array([[1, 1, 1, 1],\n",
              "       [0, 0, 0, 0],\n",
              "       [2, 2, 2, 2]], dtype=int64)"
            ]
          },
          "execution_count": 99,
          "metadata": {},
          "output_type": "execute_result"
        }
      ],
      "source": [
        "# Sort the same column in row direction\n",
        "print(arr2d)\n",
        "print(np.sort(arr2d, axis=0))\n",
        "np.argsort(arr2d, axis=0)"
      ]
    },
    {
      "cell_type": "markdown",
      "metadata": {
        "id": "cKGkg3WNl9pB"
      },
      "source": [
        "#Section 05. Computation of Numpy arrays\n",
        "## 1. Computation of Numpy arrays\n",
        "### Computation of elements in an array\n"
      ]
    },
    {
      "cell_type": "code",
      "execution_count": 190,
      "metadata": {
        "colab": {
          "base_uri": "https://localhost:8080/"
        },
        "id": "O2ZeH7dUmEvh",
        "outputId": "d2099a51-257d-4aaf-c0ea-f6e7b3e37b7c"
      },
      "outputs": [
        {
          "output_type": "execute_result",
          "data": {
            "text/plain": [
              "(array([5, 7, 9]), array([ 6, 15]))"
            ]
          },
          "metadata": {},
          "execution_count": 190
        }
      ],
      "source": [
        "# Sum elements in the same array\n",
        "import numpy as np\n",
        "a=np.array([[1, 2, 3],\n",
        " [4, 5, 6]])\n",
        "np.sum(a, axis=0), np.sum(a, axis=1)"
      ]
    },
    {
      "cell_type": "code",
      "execution_count": 191,
      "metadata": {
        "colab": {
          "base_uri": "https://localhost:8080/"
        },
        "id": "7ywynz4RmG4W",
        "outputId": "1e5c4bb3-3467-4d2a-faf5-028ec56d45c1"
      },
      "outputs": [
        {
          "output_type": "execute_result",
          "data": {
            "text/plain": [
              "21"
            ]
          },
          "metadata": {},
          "execution_count": 191
        }
      ],
      "source": [
        "a.sum()"
      ]
    },
    {
      "cell_type": "markdown",
      "metadata": {
        "id": "dv9R5LDsmJAU"
      },
      "source": [
        "###Arithmetics of arrays and constants"
      ]
    },
    {
      "cell_type": "code",
      "execution_count": 192,
      "metadata": {
        "colab": {
          "base_uri": "https://localhost:8080/"
        },
        "id": "5H6_pfSQmLCT",
        "outputId": "74ba9dc7-57b8-4f60-a880-91f6f9b903c8"
      },
      "outputs": [
        {
          "output_type": "stream",
          "name": "stdout",
          "text": [
            "[[3 4 5]\n",
            " [6 7 8]]\n",
            "[[-1  0  1]\n",
            " [ 2  3  4]]\n",
            "[[ 2  4  6]\n",
            " [ 8 10 12]]\n",
            "[[0.5 1.  1.5]\n",
            " [2.  2.5 3. ]]\n"
          ]
        }
      ],
      "source": [
        "a=np.array([[1, 2, 3],\n",
        " [4, 5, 6]])\n",
        "b=2\n",
        "print(a+b)\n",
        "print(a-b)\n",
        "print(a*b)\n",
        "print(a/b)"
      ]
    },
    {
      "cell_type": "code",
      "execution_count": null,
      "metadata": {
        "colab": {
          "base_uri": "https://localhost:8080/"
        },
        "id": "2fghFGqbmN2M",
        "outputId": "423a54c3-b07a-47f3-85bc-4c9d9d9b6aa0"
      },
      "outputs": [
        {
          "name": "stdout",
          "output_type": "stream",
          "text": [
            "[[11 12 13 14]\n",
            " [15 16 17 18]\n",
            " [19 20 21 22]]\n",
            "[[-9 -8 -7 -6]\n",
            " [-5 -4 -3 -2]\n",
            " [-1  0  1  2]]\n",
            "[[ 10  20  30  40]\n",
            " [ 50  60  70  80]\n",
            " [ 90 100 110 120]]\n",
            "[[0.1 0.2 0.3 0.4]\n",
            " [0.5 0.6 0.7 0.8]\n",
            " [0.9 1.  1.1 1.2]]\n"
          ]
        }
      ],
      "source": [
        "A=np.arange(1, 13).reshape(3, 4)\n",
        "print(A+10)\n",
        "print(A-10)\n",
        "print(A*10)\n",
        "print(A/10)"
      ]
    },
    {
      "cell_type": "code",
      "execution_count": 196,
      "metadata": {
        "colab": {
          "base_uri": "https://localhost:8080/"
        },
        "id": "B3b-n1tqmTUC",
        "outputId": "20a9fc98-dba7-4fe7-8b5c-a8cb8b52a82a"
      },
      "outputs": [
        {
          "output_type": "execute_result",
          "data": {
            "text/plain": [
              "array([[ 0,  1,  2,  3],\n",
              "       [ 4,  5,  6,  7],\n",
              "       [ 8,  9, 10, 11]])"
            ]
          },
          "metadata": {},
          "execution_count": 196
        }
      ],
      "source": [
        "A=np.arange(1, 13).reshape(3, 4)\n",
        "A-1"
      ]
    },
    {
      "cell_type": "markdown",
      "metadata": {
        "id": "IoYWOJY7mVDL"
      },
      "source": [
        "### Computations between elements of arrays"
      ]
    },
    {
      "cell_type": "code",
      "execution_count": null,
      "metadata": {
        "colab": {
          "base_uri": "https://localhost:8080/"
        },
        "id": "UUrPLvwwmXCd",
        "outputId": "71152216-37a5-452c-b4ab-3c8baff96c8f"
      },
      "outputs": [
        {
          "name": "stdout",
          "output_type": "stream",
          "text": [
            "[[2 4 6]\n",
            " [5 7 9]]\n",
            "[[0 0 0]\n",
            " [3 3 3]]\n",
            "[[ 1  4  9]\n",
            " [ 4 10 18]]\n",
            "[[1.  1.  1. ]\n",
            " [4.  2.5 2. ]]\n"
          ]
        }
      ],
      "source": [
        "a=np.array([[1, 2, 3],\n",
        " [4, 5, 6]])\n",
        "b=np.array([1, 2, 3]) # b=np.array([[1, 2, 3]]) is possible too\n",
        "print(a+b)\n",
        "print(a-b)\n",
        "print(a*b)\n",
        "print(a/b)"
      ]
    },
    {
      "cell_type": "markdown",
      "metadata": {
        "id": "mNxn95ihmdoB"
      },
      "source": [
        "###The difference between multiplication between arrays and matrix multiplication\n",
        "\n"
      ]
    },
    {
      "cell_type": "code",
      "execution_count": 193,
      "metadata": {
        "colab": {
          "base_uri": "https://localhost:8080/"
        },
        "id": "TnZi_ggsmc6D",
        "outputId": "7c7720be-2428-4b09-d75a-e3b68c77d01b"
      },
      "outputs": [
        {
          "output_type": "stream",
          "name": "stdout",
          "text": [
            "[[1 4]\n",
            " [3 8]]\n",
            "[[ 3  6]\n",
            " [ 7 14]]\n"
          ]
        }
      ],
      "source": [
        "a=np.array([[1, 2],\n",
        " [3, 4]])\n",
        "b=np.array([[1, 2],\n",
        " [1, 2]])\n",
        "print(a*b)\n",
        "print(a.dot(b))"
      ]
    },
    {
      "cell_type": "markdown",
      "metadata": {
        "id": "ezS1m-kgmiVa"
      },
      "source": [
        "##2. Broadcasting"
      ]
    },
    {
      "cell_type": "code",
      "execution_count": null,
      "metadata": {
        "colab": {
          "base_uri": "https://localhost:8080/"
        },
        "id": "ysIRJFzsmlA9",
        "outputId": "d9290e0e-6b69-4575-98da-7e5621f0e4ca"
      },
      "outputs": [
        {
          "data": {
            "text/plain": [
              "array([[2, 4],\n",
              "       [4, 6]])"
            ]
          },
          "execution_count": 107,
          "metadata": {},
          "output_type": "execute_result"
        }
      ],
      "source": [
        "A=np.array([[1, 2],\n",
        " [3, 4]])\n",
        "B=np.array([1, 2])\n",
        "A+B"
      ]
    },
    {
      "cell_type": "code",
      "execution_count": null,
      "metadata": {
        "colab": {
          "base_uri": "https://localhost:8080/"
        },
        "id": "zFbqT-Ocmokc",
        "outputId": "3fb11eb5-2fc2-452f-918d-ae5f3fde1db1"
      },
      "outputs": [
        {
          "data": {
            "text/plain": [
              "array([[3, 4, 5],\n",
              "       [6, 7, 8]])"
            ]
          },
          "execution_count": 108,
          "metadata": {},
          "output_type": "execute_result"
        }
      ],
      "source": [
        "A=np.array([[1, 2, 3],\n",
        " [4, 5, 6]])\n",
        "B=np.array([2])\n",
        "A+B"
      ]
    },
    {
      "cell_type": "code",
      "execution_count": null,
      "metadata": {
        "colab": {
          "base_uri": "https://localhost:8080/"
        },
        "id": "P5hRT8jTmq5m",
        "outputId": "42628b88-029f-4dff-ec08-188867fc3d2e"
      },
      "outputs": [
        {
          "data": {
            "text/plain": [
              "array([[ 3,  4,  5],\n",
              "       [ 8,  9, 10]])"
            ]
          },
          "execution_count": 109,
          "metadata": {},
          "output_type": "execute_result"
        }
      ],
      "source": [
        "A=np.array([[1, 2, 3],\n",
        " [4, 5, 6]])\n",
        "B=np.array([[2],\n",
        " [4]])\n",
        "A+B"
      ]
    },
    {
      "cell_type": "code",
      "execution_count": null,
      "metadata": {
        "id": "LoAz3fjUh85C"
      },
      "outputs": [],
      "source": []
    }
  ],
  "metadata": {
    "colab": {
      "provenance": [],
      "toc_visible": true,
      "include_colab_link": true
    },
    "kernelspec": {
      "display_name": "Python 3 (ipykernel)",
      "language": "python",
      "name": "python3"
    },
    "language_info": {
      "codemirror_mode": {
        "name": "ipython",
        "version": 3
      },
      "file_extension": ".py",
      "mimetype": "text/x-python",
      "name": "python",
      "nbconvert_exporter": "python",
      "pygments_lexer": "ipython3",
      "version": "3.9.12"
    }
  },
  "nbformat": 4,
  "nbformat_minor": 0
}