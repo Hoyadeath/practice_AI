{
  "nbformat": 4,
  "nbformat_minor": 0,
  "metadata": {
    "colab": {
      "provenance": [],
      "toc_visible": true,
      "include_colab_link": true
    },
    "kernelspec": {
      "name": "python3",
      "display_name": "Python 3"
    },
    "language_info": {
      "name": "python"
    }
  },
  "cells": [
    {
      "cell_type": "markdown",
      "metadata": {
        "id": "view-in-github",
        "colab_type": "text"
      },
      "source": [
        "<a href=\"https://colab.research.google.com/github/Hoyadeath/practice_AI/blob/main/1_3_Dictionary.ipynb\" target=\"_parent\"><img src=\"https://colab.research.google.com/assets/colab-badge.svg\" alt=\"Open In Colab\"/></a>"
      ]
    },
    {
      "cell_type": "markdown",
      "source": [
        "# Section 04. Dictionary"
      ],
      "metadata": {
        "id": "CJQ_1qr6NYsb"
      }
    },
    {
      "cell_type": "markdown",
      "source": [
        "##1. Creating a dictionary and storing data"
      ],
      "metadata": {
        "id": "NmVFqzSoNcnT"
      }
    },
    {
      "cell_type": "code",
      "execution_count": 1,
      "metadata": {
        "colab": {
          "base_uri": "https://localhost:8080/"
        },
        "id": "wNj7K307NU5T",
        "outputId": "b930001c-283c-4517-d439-120b0d21d729"
      },
      "outputs": [
        {
          "output_type": "execute_result",
          "data": {
            "text/plain": [
              "{}"
            ]
          },
          "metadata": {},
          "execution_count": 1
        }
      ],
      "source": [
        "my_dict={}\n",
        "my_dict"
      ]
    },
    {
      "cell_type": "code",
      "source": [
        "my_dict1=dict( )\n",
        "my_dict1"
      ],
      "metadata": {
        "colab": {
          "base_uri": "https://localhost:8080/"
        },
        "id": "5WqGrL-sNhLL",
        "outputId": "40359c56-d716-4e6a-f217-cef59bad31de"
      },
      "execution_count": 2,
      "outputs": [
        {
          "output_type": "execute_result",
          "data": {
            "text/plain": [
              "{}"
            ]
          },
          "metadata": {},
          "execution_count": 2
        }
      ]
    },
    {
      "cell_type": "markdown",
      "source": [
        "##2. Access and use of dictionary elements\n",
        "\n",
        "###Set the key"
      ],
      "metadata": {
        "id": "ADOM-ILNNj7Z"
      }
    },
    {
      "cell_type": "code",
      "source": [
        "my_stocks={'ss':10, 'lg':5, 'sk':5}\n",
        "print(\"number of my ss stocks: %d\" % my_stocks['ss'])"
      ],
      "metadata": {
        "colab": {
          "base_uri": "https://localhost:8080/"
        },
        "id": "Pf8Dp27dNozA",
        "outputId": "4576e72e-57bd-4951-8232-b596315f88cd"
      },
      "execution_count": 3,
      "outputs": [
        {
          "output_type": "stream",
          "name": "stdout",
          "text": [
            "number of my ss stocks: 10\n"
          ]
        }
      ]
    },
    {
      "cell_type": "markdown",
      "source": [
        "A list that allows duplication cannot be used as a key in the dictionary, and a tuple or character type can be used as a key.\n"
      ],
      "metadata": {
        "id": "rYy0ZGQ2N3_M"
      }
    },
    {
      "cell_type": "code",
      "source": [
        "my_stocks1={['ss','lg']: 10}\n",
        "my_stocks1"
      ],
      "metadata": {
        "colab": {
          "base_uri": "https://localhost:8080/",
          "height": 166
        },
        "id": "X_1-gsy2NvHJ",
        "outputId": "4acc1864-d37e-4f22-bff2-19e34e92cd44"
      },
      "execution_count": 8,
      "outputs": [
        {
          "output_type": "error",
          "ename": "TypeError",
          "evalue": "unhashable type: 'list'",
          "traceback": [
            "\u001b[0;31m---------------------------------------------------------------------------\u001b[0m",
            "\u001b[0;31mTypeError\u001b[0m                                 Traceback (most recent call last)",
            "\u001b[0;32m<ipython-input-8-3caec992f9bf>\u001b[0m in \u001b[0;36m<cell line: 1>\u001b[0;34m()\u001b[0m\n\u001b[0;32m----> 1\u001b[0;31m \u001b[0mmy_stocks1\u001b[0m\u001b[0;34m=\u001b[0m\u001b[0;34m{\u001b[0m\u001b[0;34m[\u001b[0m\u001b[0;34m'ss'\u001b[0m\u001b[0;34m,\u001b[0m\u001b[0;34m'lg'\u001b[0m\u001b[0;34m]\u001b[0m\u001b[0;34m:\u001b[0m \u001b[0;36m10\u001b[0m\u001b[0;34m}\u001b[0m\u001b[0;34m\u001b[0m\u001b[0;34m\u001b[0m\u001b[0m\n\u001b[0m\u001b[1;32m      2\u001b[0m \u001b[0mmy_stocks1\u001b[0m\u001b[0;34m\u001b[0m\u001b[0;34m\u001b[0m\u001b[0m\n",
            "\u001b[0;31mTypeError\u001b[0m: unhashable type: 'list'"
          ]
        }
      ]
    },
    {
      "cell_type": "code",
      "source": [
        "my_stocks2={('ss','lg'): 10} # Tuples or characters can be used as keys in the dictionary\n",
        "my_stocks2"
      ],
      "metadata": {
        "colab": {
          "base_uri": "https://localhost:8080/"
        },
        "id": "U8TIf38INwiq",
        "outputId": "add27273-b6d0-47dd-c313-c7ff13b48af1"
      },
      "execution_count": 5,
      "outputs": [
        {
          "output_type": "execute_result",
          "data": {
            "text/plain": [
              "{('ss', 'lg'): 10}"
            ]
          },
          "metadata": {},
          "execution_count": 5
        }
      ]
    },
    {
      "cell_type": "markdown",
      "source": [
        "###Use keys and values"
      ],
      "metadata": {
        "id": "TyG7LAdrN_iP"
      }
    },
    {
      "cell_type": "code",
      "source": [
        "my_stocks={'ss': 10, 'lg': 5, 'sk': 5}\n",
        "my_stocks['lg']=15\n",
        "my_stocks"
      ],
      "metadata": {
        "colab": {
          "base_uri": "https://localhost:8080/"
        },
        "id": "_lrI9bjEOBfj",
        "outputId": "1e0ce2b2-e3b8-49f5-87bc-29538eae56e6"
      },
      "execution_count": 9,
      "outputs": [
        {
          "output_type": "execute_result",
          "data": {
            "text/plain": [
              "{'ss': 10, 'lg': 15, 'sk': 5}"
            ]
          },
          "metadata": {},
          "execution_count": 9
        }
      ]
    },
    {
      "cell_type": "code",
      "source": [
        "my_stocks={'ss': 10, 'lg': 5, 'sk': 5}\n",
        "my_stocks['naver']=20\n",
        "my_stocks"
      ],
      "metadata": {
        "colab": {
          "base_uri": "https://localhost:8080/"
        },
        "id": "sw6D2uS2ODOk",
        "outputId": "9ea43f53-6d9f-47f7-c95e-2407227951fe"
      },
      "execution_count": 10,
      "outputs": [
        {
          "output_type": "execute_result",
          "data": {
            "text/plain": [
              "{'ss': 10, 'lg': 5, 'sk': 5, 'naver': 20}"
            ]
          },
          "metadata": {},
          "execution_count": 10
        }
      ]
    },
    {
      "cell_type": "code",
      "source": [
        "my_stocks={'ss': 10, 'lg': 5, 'sk': 5, 'naver': 20}\n",
        "my_stocks['ss']"
      ],
      "metadata": {
        "colab": {
          "base_uri": "https://localhost:8080/"
        },
        "id": "V5GZqNnqOFT3",
        "outputId": "252c6287-ebe9-4613-b56e-f691affc3db1"
      },
      "execution_count": 14,
      "outputs": [
        {
          "output_type": "execute_result",
          "data": {
            "text/plain": [
              "10"
            ]
          },
          "metadata": {},
          "execution_count": 14
        }
      ]
    },
    {
      "cell_type": "code",
      "source": [
        "my_stocks={'ss': 10, 'lg': 5, 'sk': 5, 'naver': 20}\n",
        "print(\"number of my ss stocks: %d\" % my_stocks['ss']) # %d an integer type"
      ],
      "metadata": {
        "colab": {
          "base_uri": "https://localhost:8080/"
        },
        "id": "fPv_Qh0jOHwR",
        "outputId": "a268c8d2-99b4-400d-de66-bed93ac04cc3"
      },
      "execution_count": 16,
      "outputs": [
        {
          "output_type": "stream",
          "name": "stdout",
          "text": [
            "number of my ss stocks: 10\n"
          ]
        }
      ]
    },
    {
      "cell_type": "code",
      "source": [
        "my_stocks={'ss': 10, 'lg': 5, 'sk': 5, 'naver': 20}\n",
        "ss_has_price=\"ss\" in my_stocks\n",
        "ss_has_price"
      ],
      "metadata": {
        "colab": {
          "base_uri": "https://localhost:8080/"
        },
        "id": "IKGOyvn7OJU1",
        "outputId": "2b7cde86-d300-48e1-9b69-13c484246010"
      },
      "execution_count": 17,
      "outputs": [
        {
          "output_type": "execute_result",
          "data": {
            "text/plain": [
              "True"
            ]
          },
          "metadata": {},
          "execution_count": 17
        }
      ]
    },
    {
      "cell_type": "markdown",
      "source": [
        "##3. Built-in functions useful for dictionaries\n",
        "### Output all keys: keys function"
      ],
      "metadata": {
        "id": "GOtM-rpOOLfh"
      }
    },
    {
      "cell_type": "code",
      "source": [
        "my_stocks={'ss': 10, 'lg': 5, 'sk': 5, 'naver': 20}\n",
        "print(\"Keys: %s\" % my_stocks.keys( ))"
      ],
      "metadata": {
        "colab": {
          "base_uri": "https://localhost:8080/"
        },
        "id": "eFqo0iG8OR-i",
        "outputId": "d202a171-e73d-49e7-de71-9ec5880e089c"
      },
      "execution_count": 20,
      "outputs": [
        {
          "output_type": "stream",
          "name": "stdout",
          "text": [
            "Keys: dict_keys(['ss', 'lg', 'sk', 'naver'])\n"
          ]
        }
      ]
    },
    {
      "cell_type": "code",
      "source": [
        "my_stocks={'ss': 10, 'lg': 5, 'sk': 5, 'naver': 20}\n",
        "print(f\"Keys: {my_stocks.keys( )}\")"
      ],
      "metadata": {
        "colab": {
          "base_uri": "https://localhost:8080/"
        },
        "id": "zF8zjQx9OTw4",
        "outputId": "6f38b9e5-2f5c-4434-d419-b9a977de2bbb"
      },
      "execution_count": 21,
      "outputs": [
        {
          "output_type": "stream",
          "name": "stdout",
          "text": [
            "Keys: dict_keys(['ss', 'lg', 'sk', 'naver'])\n"
          ]
        }
      ]
    },
    {
      "cell_type": "code",
      "source": [
        "my_stocks={'ss': 10, 'lg': 5, 'sk': 5, 'naver': 20}\n",
        "for key in my_stocks.keys( ):\n",
        "  print(key)"
      ],
      "metadata": {
        "colab": {
          "base_uri": "https://localhost:8080/"
        },
        "id": "K_U0AJLaOWBa",
        "outputId": "049b7ad8-2aed-4ac3-e2da-5eec99d23277"
      },
      "execution_count": 32,
      "outputs": [
        {
          "output_type": "stream",
          "name": "stdout",
          "text": [
            "ss\n",
            "lg\n",
            "sk\n",
            "naver\n"
          ]
        }
      ]
    },
    {
      "cell_type": "code",
      "source": [
        "my_stocks={'ss': 10, 'lg': 5, 'sk': 5, 'naver': 20}\n",
        "for key in my_stocks.keys( ):\n",
        "  print(key, my_stocks[key])"
      ],
      "metadata": {
        "colab": {
          "base_uri": "https://localhost:8080/"
        },
        "id": "x69uZntkOazg",
        "outputId": "0072cf5a-bd87-42c7-bf87-87edab7b4c9a"
      },
      "execution_count": 24,
      "outputs": [
        {
          "output_type": "stream",
          "name": "stdout",
          "text": [
            "ss 10\n",
            "lg 5\n",
            "sk 5\n",
            "naver 20\n"
          ]
        }
      ]
    },
    {
      "cell_type": "code",
      "source": [
        "my_stocks={'ss': 10, 'lg': 5, 'sk': 5, 'naver': 20}\n",
        "my_stocks_list=list(my_stocks.keys( ))\n",
        "my_stocks_list"
      ],
      "metadata": {
        "colab": {
          "base_uri": "https://localhost:8080/"
        },
        "id": "OZXQf-rHOdf4",
        "outputId": "50c095c1-1316-43dc-cc40-fc306d6621b6"
      },
      "execution_count": 33,
      "outputs": [
        {
          "output_type": "execute_result",
          "data": {
            "text/plain": [
              "['ss', 'lg', 'sk', 'naver']"
            ]
          },
          "metadata": {},
          "execution_count": 33
        }
      ]
    },
    {
      "cell_type": "markdown",
      "source": [
        "### Output all values: values function"
      ],
      "metadata": {
        "id": "VLpEdh09OfwU"
      }
    },
    {
      "cell_type": "code",
      "source": [
        "my_stocks={'ss': 10, 'lg': 5, 'sk': 5, 'naver': 20}\n",
        "print(\"Values: %s\" % my_stocks.values( ))"
      ],
      "metadata": {
        "colab": {
          "base_uri": "https://localhost:8080/"
        },
        "id": "CjilISLyOh55",
        "outputId": "7ca718a7-0eca-4d39-8fc2-ff27238480ce"
      },
      "execution_count": 29,
      "outputs": [
        {
          "output_type": "stream",
          "name": "stdout",
          "text": [
            "Values: dict_values([10, 5, 5, 20])\n"
          ]
        }
      ]
    },
    {
      "cell_type": "code",
      "source": [
        "my_stocks={'ss': 10, 'lg': 5, 'sk': 5, 'naver': 20}\n",
        "for value in my_stocks.values( ):\n",
        "  print (value)"
      ],
      "metadata": {
        "colab": {
          "base_uri": "https://localhost:8080/"
        },
        "id": "ZkXXDCe-OlF0",
        "outputId": "8a487711-832e-49ec-f7eb-bb435eb63d95"
      },
      "execution_count": 30,
      "outputs": [
        {
          "output_type": "stream",
          "name": "stdout",
          "text": [
            "10\n",
            "5\n",
            "5\n",
            "20\n"
          ]
        }
      ]
    },
    {
      "cell_type": "markdown",
      "source": [
        "### Output all pairs of keys and values: items function"
      ],
      "metadata": {
        "id": "1zr8vc_YOnq2"
      }
    },
    {
      "cell_type": "code",
      "source": [
        "my_stocks={'ss': 10, 'lg': 5, 'sk': 5, 'naver': 20}\n",
        "my_stocks_list1=list(my_stocks.items( ))\n",
        "my_stocks_list1"
      ],
      "metadata": {
        "colab": {
          "base_uri": "https://localhost:8080/"
        },
        "id": "FuLqDQyMOqPI",
        "outputId": "aad26872-ef5d-426a-f1a3-273816510c09"
      },
      "execution_count": 34,
      "outputs": [
        {
          "output_type": "execute_result",
          "data": {
            "text/plain": [
              "[('ss', 10), ('lg', 5), ('sk', 5), ('naver', 20)]"
            ]
          },
          "metadata": {},
          "execution_count": 34
        }
      ]
    },
    {
      "cell_type": "code",
      "source": [
        "my_stocks={'ss': 10, 'lg': 5, 'sk': 5, 'naver': 20}\n",
        "for value in my_stocks.items( ):\n",
        "  print (value)"
      ],
      "metadata": {
        "colab": {
          "base_uri": "https://localhost:8080/"
        },
        "id": "xyZOBRWtOsAr",
        "outputId": "971a173a-9949-4943-b2ee-7073e61037fa"
      },
      "execution_count": 35,
      "outputs": [
        {
          "output_type": "stream",
          "name": "stdout",
          "text": [
            "('ss', 10)\n",
            "('lg', 5)\n",
            "('sk', 5)\n",
            "('naver', 20)\n"
          ]
        }
      ]
    },
    {
      "cell_type": "markdown",
      "source": [
        "### Import value: get function"
      ],
      "metadata": {
        "id": "p3_MmYRlOwWe"
      }
    },
    {
      "cell_type": "code",
      "source": [
        "my_stocks={'ss': 10, 'lg': 5, 'sk': 5, 'naver': 20}\n",
        "ss_quantity=my_stocks.get(\"ss\", 100) # ❶\n",
        "ss_quantity"
      ],
      "metadata": {
        "colab": {
          "base_uri": "https://localhost:8080/"
        },
        "id": "j_Rd9KBSO0U_",
        "outputId": "1e254625-ffc7-4bbf-8b44-50784503a75d"
      },
      "execution_count": 42,
      "outputs": [
        {
          "output_type": "execute_result",
          "data": {
            "text/plain": [
              "10"
            ]
          },
          "metadata": {},
          "execution_count": 42
        }
      ]
    },
    {
      "cell_type": "code",
      "source": [
        "my_stocks={'ss': 10, 'lg': 5, 'sk': 5, 'naver': 20}\n",
        "ss_quantity=my_stocks.get(\"kt\", 100) # ❷\n",
        "ss_quantity"
      ],
      "metadata": {
        "colab": {
          "base_uri": "https://localhost:8080/"
        },
        "id": "flks0lYBO8I0",
        "outputId": "19fd6583-3383-4240-8c8a-adc8423a062b"
      },
      "execution_count": 44,
      "outputs": [
        {
          "output_type": "execute_result",
          "data": {
            "text/plain": [
              "100"
            ]
          },
          "metadata": {},
          "execution_count": 44
        }
      ]
    },
    {
      "cell_type": "code",
      "source": [
        "my_stocks={'ss': 10, 'lg': 5, 'sk': 5, 'naver': 20}\n",
        "no_ones_price=my_stocks.get(\"skt\") # ❸\n",
        "print(no_ones_price)"
      ],
      "metadata": {
        "colab": {
          "base_uri": "https://localhost:8080/"
        },
        "id": "Bz2S1wauPAM0",
        "outputId": "b10b3463-09b3-4cd9-9d58-09f4bc824671"
      },
      "execution_count": 45,
      "outputs": [
        {
          "output_type": "stream",
          "name": "stdout",
          "text": [
            "None\n"
          ]
        }
      ]
    },
    {
      "cell_type": "markdown",
      "source": [
        "###Check the key and the value: Combine the in operator with the built-in function"
      ],
      "metadata": {
        "id": "X_4ixdB5PDxA"
      }
    },
    {
      "cell_type": "code",
      "source": [
        "my_stocks={'ss': 10, 'lg': 5, 'sk': 5, 'naver': 20}\n",
        "\"ss\" in my_stocks"
      ],
      "metadata": {
        "colab": {
          "base_uri": "https://localhost:8080/"
        },
        "id": "folF921oPGEa",
        "outputId": "c1f608ff-5ba9-4d46-ff10-f71f72011637"
      },
      "execution_count": 51,
      "outputs": [
        {
          "output_type": "execute_result",
          "data": {
            "text/plain": [
              "True"
            ]
          },
          "metadata": {},
          "execution_count": 51
        }
      ]
    },
    {
      "cell_type": "code",
      "source": [
        "my_stocks={'ss': 10, 'lg': 5, 'sk': 5, 'naver': 20}\n",
        "\"kt\" in my_stocks"
      ],
      "metadata": {
        "colab": {
          "base_uri": "https://localhost:8080/"
        },
        "id": "TkaGXZMNPH9L",
        "outputId": "2ea9afb6-4f24-4379-a315-1a72a04ecd5b"
      },
      "execution_count": 52,
      "outputs": [
        {
          "output_type": "execute_result",
          "data": {
            "text/plain": [
              "False"
            ]
          },
          "metadata": {},
          "execution_count": 52
        }
      ]
    },
    {
      "cell_type": "code",
      "source": [
        "my_stocks={'ss': 10, 'lg': 5, 'sk': 5, 'naver': 20}\n",
        "\"ss\" in my_stocks.keys( )"
      ],
      "metadata": {
        "colab": {
          "base_uri": "https://localhost:8080/"
        },
        "id": "yxcGVEX9PJ6t",
        "outputId": "25b038a9-1c8c-485c-8456-670c28ebd3c8"
      },
      "execution_count": 53,
      "outputs": [
        {
          "output_type": "execute_result",
          "data": {
            "text/plain": [
              "True"
            ]
          },
          "metadata": {},
          "execution_count": 53
        }
      ]
    },
    {
      "cell_type": "code",
      "source": [
        "my_stocks={'ss': 10, 'lg': 5, 'sk': 5, 'naver': 20}\n",
        "\"ss\" in my_stocks.values( )"
      ],
      "metadata": {
        "colab": {
          "base_uri": "https://localhost:8080/"
        },
        "id": "_42Nhi8xPNCH",
        "outputId": "7b19bd9f-adf7-4c23-82f7-1e73eb38b8d0"
      },
      "execution_count": 56,
      "outputs": [
        {
          "output_type": "execute_result",
          "data": {
            "text/plain": [
              "False"
            ]
          },
          "metadata": {},
          "execution_count": 56
        }
      ]
    },
    {
      "cell_type": "code",
      "source": [
        "my_stocks={'ss': 10, 'lg': 5, 'sk': 5, 'naver': 20}\n",
        "10 in my_stocks.values( )"
      ],
      "metadata": {
        "colab": {
          "base_uri": "https://localhost:8080/"
        },
        "id": "FhmIxLTSPOjs",
        "outputId": "6292f922-d437-4d6f-ba9e-8d6c1958d99f"
      },
      "execution_count": 57,
      "outputs": [
        {
          "output_type": "execute_result",
          "data": {
            "text/plain": [
              "True"
            ]
          },
          "metadata": {},
          "execution_count": 57
        }
      ]
    },
    {
      "cell_type": "code",
      "source": [
        "my_stocks={'ss': 10, 'lg': 5, 'sk': 5, 'naver': 20}\n",
        "\"ss\" in my_stocks.items( )"
      ],
      "metadata": {
        "colab": {
          "base_uri": "https://localhost:8080/"
        },
        "id": "E1qngHb_PQsc",
        "outputId": "b66c44a6-23c7-4a29-878c-ebf3639d5bce"
      },
      "execution_count": 58,
      "outputs": [
        {
          "output_type": "execute_result",
          "data": {
            "text/plain": [
              "False"
            ]
          },
          "metadata": {},
          "execution_count": 58
        }
      ]
    },
    {
      "cell_type": "code",
      "source": [
        "my_stocks={'ss': 10, 'lg': 5, 'sk': 5, 'naver': 20}\n",
        "('ss', 10) in my_stocks.items( ) # 튜플로 표현됨"
      ],
      "metadata": {
        "colab": {
          "base_uri": "https://localhost:8080/"
        },
        "id": "cAAcJjUdPS-Q",
        "outputId": "fa262079-011e-47f3-b860-e2ca01fb326c"
      },
      "execution_count": 59,
      "outputs": [
        {
          "output_type": "execute_result",
          "data": {
            "text/plain": [
              "True"
            ]
          },
          "metadata": {},
          "execution_count": 59
        }
      ]
    },
    {
      "cell_type": "code",
      "source": [
        "my_stocks={'ss': 10, 'lg': 5, 'sk': 5, 'naver': 20}\n",
        "try:\n",
        "  kt=my_stocks[\"kt\"]\n",
        "except KeyError:\n",
        "  print(\"no price for kt!\")"
      ],
      "metadata": {
        "colab": {
          "base_uri": "https://localhost:8080/"
        },
        "id": "vbzdUVjnPUkq",
        "outputId": "9f41ad81-733b-4a65-89dc-beb0bd6b7390"
      },
      "execution_count": 60,
      "outputs": [
        {
          "output_type": "stream",
          "name": "stdout",
          "text": [
            "no price for kt!\n"
          ]
        }
      ]
    },
    {
      "cell_type": "code",
      "source": [
        "my_stocks={'ss': 10, 'lg': 5, 'sk': 5, 'naver': 20}\n",
        "try:\n",
        "  ss=my_stocks[\"ss\"]\n",
        "  print(\"ss exists\")\n",
        "except KeyError:\n",
        "  print(\"no price for ss!\")"
      ],
      "metadata": {
        "id": "_3TIHSvhPYPC",
        "outputId": "0095dbf4-6ac0-4846-a010-72949212f7bc",
        "colab": {
          "base_uri": "https://localhost:8080/"
        }
      },
      "execution_count": 61,
      "outputs": [
        {
          "output_type": "stream",
          "name": "stdout",
          "text": [
            "ss exists\n"
          ]
        }
      ]
    }
  ]
}