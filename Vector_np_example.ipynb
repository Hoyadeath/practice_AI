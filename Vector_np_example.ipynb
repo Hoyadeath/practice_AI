{
  "cells": [
    {
      "cell_type": "markdown",
      "metadata": {
        "id": "view-in-github",
        "colab_type": "text"
      },
      "source": [
        "<a href=\"https://colab.research.google.com/github/Hoyadeath/practice_AI/blob/main/Vector_np_example.ipynb\" target=\"_parent\"><img src=\"https://colab.research.google.com/assets/colab-badge.svg\" alt=\"Open In Colab\"/></a>"
      ]
    },
    {
      "cell_type": "code",
      "execution_count": 1,
      "metadata": {
        "id": "2VAMmyu-Z0rr"
      },
      "outputs": [],
      "source": [
        "import numpy as np # numpy를 사용해서 벡터와 행렬 생성"
      ]
    },
    {
      "cell_type": "code",
      "execution_count": 2,
      "metadata": {
        "id": "k0gn-_4yZ0ru"
      },
      "outputs": [],
      "source": [
        "a = np.array([1,2])\n",
        "b = np.array([2,2])\n",
        "c = np.array([-3, -3]) # array()를 이용하는 경우는 보통 리스트를 인자로 입력"
      ]
    },
    {
      "cell_type": "code",
      "execution_count": 3,
      "metadata": {
        "colab": {
          "base_uri": "https://localhost:8080/"
        },
        "id": "ftq-EIRIZ0rv",
        "outputId": "1402c273-349f-4476-8aba-37f6bc95c198"
      },
      "outputs": [
        {
          "output_type": "execute_result",
          "data": {
            "text/plain": [
              "array([1, 2])"
            ]
          },
          "metadata": {},
          "execution_count": 3
        }
      ],
      "source": [
        "a"
      ]
    },
    {
      "cell_type": "markdown",
      "metadata": {
        "id": "dpuoYNxPZ0rv"
      },
      "source": [
        "# 거리 구하기"
      ]
    },
    {
      "cell_type": "code",
      "execution_count": 4,
      "metadata": {
        "colab": {
          "base_uri": "https://localhost:8080/"
        },
        "id": "BqCKtIIOZ0rw",
        "outputId": "9f491517-e35b-4b2f-bbca-22640a0315c3"
      },
      "outputs": [
        {
          "output_type": "execute_result",
          "data": {
            "text/plain": [
              "2.23606797749979"
            ]
          },
          "metadata": {},
          "execution_count": 4
        }
      ],
      "source": [
        "np.linalg.norm(a)"
      ]
    },
    {
      "cell_type": "code",
      "source": [
        "#맨해튼 거리\n",
        "manhattan_distance = np.linalg.norm(a, ord=1)\n",
        "manhattan_distance"
      ],
      "metadata": {
        "colab": {
          "base_uri": "https://localhost:8080/"
        },
        "id": "dcqq1H51aYUF",
        "outputId": "4ebfcd2f-f16f-4cf1-a5cd-772ac682e526"
      },
      "execution_count": 7,
      "outputs": [
        {
          "output_type": "execute_result",
          "data": {
            "text/plain": [
              "3.0"
            ]
          },
          "metadata": {},
          "execution_count": 7
        }
      ]
    },
    {
      "cell_type": "code",
      "execution_count": 5,
      "metadata": {
        "colab": {
          "base_uri": "https://localhost:8080/"
        },
        "id": "TNWAj2hkZ0rx",
        "outputId": "65ccec71-6dbd-400c-d5d7-1cecef88b1dc"
      },
      "outputs": [
        {
          "output_type": "execute_result",
          "data": {
            "text/plain": [
              "2.8284271247461903"
            ]
          },
          "metadata": {},
          "execution_count": 5
        }
      ],
      "source": [
        "np.linalg.norm(b)"
      ]
    },
    {
      "cell_type": "code",
      "execution_count": 8,
      "metadata": {
        "colab": {
          "base_uri": "https://localhost:8080/"
        },
        "id": "rgIw8txXZ0rx",
        "outputId": "4bf45993-6d87-4dc9-c674-a4edb04a6f2c"
      },
      "outputs": [
        {
          "output_type": "stream",
          "name": "stdout",
          "text": [
            "1.0\n",
            "6.4031242374328485\n"
          ]
        }
      ],
      "source": [
        "print(np.linalg.norm(b-a))\n",
        "print(np.linalg.norm(c-a))"
      ]
    },
    {
      "cell_type": "code",
      "execution_count": 10,
      "metadata": {
        "id": "dISwMUouZ0rx"
      },
      "outputs": [],
      "source": [
        "dp1 = np.array([30,1])\n",
        "dp2 = np.array([33,2])\n",
        "dp3 = np.array([55,25])"
      ]
    },
    {
      "cell_type": "code",
      "execution_count": 11,
      "metadata": {
        "colab": {
          "base_uri": "https://localhost:8080/"
        },
        "id": "HSpyebHKZ0rx",
        "outputId": "06d892c7-0839-4fdf-da61-b3e5542a71e6"
      },
      "outputs": [
        {
          "output_type": "stream",
          "name": "stdout",
          "text": [
            "3.1622776601683795\n",
            "34.655446902326915\n"
          ]
        }
      ],
      "source": [
        "print(np.linalg.norm(dp2-dp1))\n",
        "print(np.linalg.norm(dp3-dp1))"
      ]
    },
    {
      "cell_type": "markdown",
      "metadata": {
        "id": "z3BsQKW9Z0ry"
      },
      "source": [
        "# Cosine similarity"
      ]
    },
    {
      "cell_type": "code",
      "execution_count": 12,
      "metadata": {
        "colab": {
          "base_uri": "https://localhost:8080/"
        },
        "id": "r21zC2xoZ0ry",
        "outputId": "8cf3c52d-635c-4adf-a8be-b4aa4636bcee"
      },
      "outputs": [
        {
          "output_type": "execute_result",
          "data": {
            "text/plain": [
              "array([1, 2])"
            ]
          },
          "metadata": {},
          "execution_count": 12
        }
      ],
      "source": [
        "a"
      ]
    },
    {
      "cell_type": "code",
      "execution_count": 13,
      "metadata": {
        "colab": {
          "base_uri": "https://localhost:8080/"
        },
        "id": "vqoVHpzcZ0ry",
        "outputId": "d908f7fd-1086-4d40-82b1-0b99cc56722f"
      },
      "outputs": [
        {
          "output_type": "execute_result",
          "data": {
            "text/plain": [
              "array([2, 2])"
            ]
          },
          "metadata": {},
          "execution_count": 13
        }
      ],
      "source": [
        "b"
      ]
    },
    {
      "cell_type": "code",
      "execution_count": 14,
      "metadata": {
        "colab": {
          "base_uri": "https://localhost:8080/"
        },
        "id": "E1sltyiTZ0ry",
        "outputId": "44616e6c-ad13-42c4-9b4f-4e14af4bb6b8"
      },
      "outputs": [
        {
          "output_type": "execute_result",
          "data": {
            "text/plain": [
              "6"
            ]
          },
          "metadata": {},
          "execution_count": 14
        }
      ],
      "source": [
        "np.dot(a,b)"
      ]
    },
    {
      "cell_type": "code",
      "execution_count": 16,
      "metadata": {
        "colab": {
          "base_uri": "https://localhost:8080/"
        },
        "id": "YA88eyMnZ0ry",
        "outputId": "e70df960-5779-4315-c0d3-46d1199abe49"
      },
      "outputs": [
        {
          "output_type": "execute_result",
          "data": {
            "text/plain": [
              "0.9486832980505138"
            ]
          },
          "metadata": {},
          "execution_count": 16
        }
      ],
      "source": [
        "np.dot(a,b)/(np.linalg.norm(a)*np.linalg.norm(b))"
      ]
    },
    {
      "cell_type": "code",
      "execution_count": 17,
      "metadata": {
        "colab": {
          "base_uri": "https://localhost:8080/"
        },
        "id": "__PqLwVPZ0rz",
        "outputId": "acae1c06-7c45-42cb-aa7e-be583c8197bc"
      },
      "outputs": [
        {
          "output_type": "execute_result",
          "data": {
            "text/plain": [
              "array([-3, -3])"
            ]
          },
          "metadata": {},
          "execution_count": 17
        }
      ],
      "source": [
        "c"
      ]
    },
    {
      "cell_type": "code",
      "execution_count": 18,
      "metadata": {
        "colab": {
          "base_uri": "https://localhost:8080/"
        },
        "id": "KibbW6kUZ0rz",
        "outputId": "7db925eb-9672-4dce-978a-8b6450a33c3d"
      },
      "outputs": [
        {
          "output_type": "execute_result",
          "data": {
            "text/plain": [
              "-0.9486832980505138"
            ]
          },
          "metadata": {},
          "execution_count": 18
        }
      ],
      "source": [
        "np.dot(a,c)/(np.linalg.norm(a)*np.linalg.norm(c))"
      ]
    },
    {
      "cell_type": "code",
      "execution_count": 19,
      "metadata": {
        "id": "nM7vEUw1Z0rz"
      },
      "outputs": [],
      "source": [
        "doc1 = np.array([2,1,0,0,0,1])\n",
        "doc2 = np.array([1,0,2,1,0,0])\n",
        "doc3 = np.array([0,1,0,0,1,2])"
      ]
    },
    {
      "cell_type": "code",
      "execution_count": 20,
      "metadata": {
        "colab": {
          "base_uri": "https://localhost:8080/"
        },
        "id": "mKnPJPspZ0rz",
        "outputId": "a8d96302-b035-4fa6-f5f4-394a47d03f17"
      },
      "outputs": [
        {
          "output_type": "stream",
          "name": "stdout",
          "text": [
            "2.8284271247461903\n",
            "2.449489742783178\n"
          ]
        }
      ],
      "source": [
        "print(np.linalg.norm(doc2-doc1))\n",
        "print(np.linalg.norm(doc3-doc1))"
      ]
    },
    {
      "cell_type": "code",
      "execution_count": 21,
      "metadata": {
        "colab": {
          "base_uri": "https://localhost:8080/"
        },
        "id": "8YZh74ozZ0rz",
        "outputId": "754367f9-7743-4dec-c291-ba8c40b67510"
      },
      "outputs": [
        {
          "output_type": "stream",
          "name": "stdout",
          "text": [
            "0.33333333333333337\n",
            "0.5000000000000001\n"
          ]
        }
      ],
      "source": [
        "print(np.dot(doc1,doc2)/(np.linalg.norm(doc1)*np.linalg.norm(doc2)))\n",
        "print(np.dot(doc1,doc3)/(np.linalg.norm(doc1)*np.linalg.norm(doc3)))"
      ]
    },
    {
      "cell_type": "code",
      "execution_count": 23,
      "metadata": {
        "colab": {
          "base_uri": "https://localhost:8080/",
          "height": 472
        },
        "id": "ZEaB7r2_Z0rz",
        "outputId": "182e80c7-d0a4-416e-8869-9d477e642b1b"
      },
      "outputs": [
        {
          "output_type": "display_data",
          "data": {
            "text/plain": [
              "<Figure size 640x480 with 1 Axes>"
            ],
            "image/png": "[encoded data removed]"
          },
          "metadata": {}
        }
      ],
      "source": [
        "import numpy as np\n",
        "from sklearn.decomposition import PCA\n",
        "import matplotlib.pyplot as plt\n",
        "\n",
        "#벡터\n",
        "doc1 = np.array([2, 1, 0, 0, 0, 1])\n",
        "doc2 = np.array([1, 0, 2, 1, 0, 0])\n",
        "doc3 = np.array([0, 1, 0, 0, 1, 2])\n",
        "\n",
        "#데이터셋 생성\n",
        "docs = np.array([doc1, doc2, doc3])\n",
        "\n",
        "#PCA를 사용하여 2차원으로 차원 축소\n",
        "pca = PCA(n_components=2)\n",
        "docs_2d = pca.fit_transform(docs)\n",
        "\n",
        "#시각화\n",
        "plt.scatter(docs_2d[:, 0], docs_2d[:, 1])\n",
        "plt.xlabel('Component 1')\n",
        "plt.ylabel('Component 2')\n",
        "\n",
        "for i, txt in enumerate(['doc1', 'doc2', 'doc3']):\n",
        "    plt.annotate(txt, (docs_2d[i, 0], docs_2d[i, 1]))\n",
        "\n",
        "plt.title('Document Vectors in 2D Space')\n",
        "plt.show()"
      ]
    }
  ],
  "metadata": {
    "kernelspec": {
      "display_name": "Python 3 (ipykernel)",
      "language": "python",
      "name": "python3"
    },
    "language_info": {
      "codemirror_mode": {
        "name": "ipython",
        "version": 3
      },
      "file_extension": ".py",
      "mimetype": "text/x-python",
      "name": "python",
      "nbconvert_exporter": "python",
      "pygments_lexer": "ipython3",
      "version": "3.8.5"
    },
    "colab": {
      "provenance": [],
      "include_colab_link": true
    }
  },
  "nbformat": 4,
  "nbformat_minor": 0
}